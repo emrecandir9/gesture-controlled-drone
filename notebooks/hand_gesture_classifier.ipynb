{
  "cells": [
    {
      "cell_type": "code",
      "execution_count": null,
      "metadata": {
        "id": "igMyGnjE9hEp"
      },
      "outputs": [],
      "source": [
        "import numpy as np\n",
        "import tensorflow as tf\n",
        "from sklearn.model_selection import train_test_split\n",
        "\n",
        "RANDOM_SEED = 42"
      ]
    },
    {
      "cell_type": "markdown",
      "metadata": {
        "id": "t2HDvhIu9hEr"
      },
      "source": [
        "# Specify each path"
      ]
    },
    {
      "cell_type": "code",
      "execution_count": 5,
      "metadata": {
        "id": "9NvZP2Zn9hEy"
      },
      "outputs": [],
      "source": [
        "dataset = 'model/hand_detection/keypoint.csv'\n",
        "model_save_path = 'model/hand_detection/hand_detection_model.keras'\n",
        "tflite_save_path = 'model/hand_detection/hand_detection_model.tflite'"
      ]
    },
    {
      "cell_type": "markdown",
      "metadata": {
        "id": "s5oMH7x19hEz"
      },
      "source": [
        "# Set number of classes"
      ]
    },
    {
      "cell_type": "code",
      "execution_count": 6,
      "metadata": {
        "id": "du4kodXL9hEz"
      },
      "outputs": [],
      "source": [
        "NUM_CLASSES = 16"
      ]
    },
    {
      "cell_type": "markdown",
      "metadata": {
        "id": "XjnL0uso9hEz"
      },
      "source": [
        "# Dataset reading"
      ]
    },
    {
      "cell_type": "code",
      "execution_count": 7,
      "metadata": {
        "id": "QT5ZqtEz9hE0"
      },
      "outputs": [],
      "source": [
        "X_dataset = np.loadtxt(dataset, delimiter=',', dtype='float32', usecols=list(range(1, (21 * 2) + 1)))"
      ]
    },
    {
      "cell_type": "code",
      "execution_count": 8,
      "metadata": {
        "id": "QmoKFsp49hE0"
      },
      "outputs": [],
      "source": [
        "y_dataset = np.loadtxt(dataset, delimiter=',', dtype='int32', usecols=(0))"
      ]
    },
    {
      "cell_type": "code",
      "execution_count": null,
      "metadata": {
        "id": "xQU7JTZ_9hE0"
      },
      "outputs": [],
      "source": [
        "X_train, X_test, y_train, y_test = train_test_split(X_dataset, y_dataset, train_size=0.8, random_state=RANDOM_SEED, shuffle=True)"
      ]
    },
    {
      "cell_type": "markdown",
      "metadata": {
        "id": "mxK_lETT9hE0"
      },
      "source": [
        "# Model building"
      ]
    },
    {
      "cell_type": "code",
      "execution_count": 16,
      "metadata": {
        "id": "vHBmUf1t9hE1"
      },
      "outputs": [],
      "source": [
        "model = tf.keras.models.Sequential([\n",
        "    #input\n",
        "    tf.keras.layers.Input((21 * 2, ),name='gesture_recognizer_input'),\n",
        "\n",
        "    #hidden layer\n",
        "    tf.keras.layers.BatchNormalization(),\n",
        "    tf.keras.layers.Dropout(0.1),\n",
        "    tf.keras.layers.Dense(24, activation='relu'),\n",
        "\n",
        "    tf.keras.layers.BatchNormalization(),\n",
        "    tf.keras.layers.Dropout(0.1),\n",
        "    tf.keras.layers.Dense(16, activation='relu'),\n",
        "\n",
        "    #output\n",
        "    tf.keras.layers.Dense(NUM_CLASSES, activation='softmax', name='gesture_recognizer_out')\n",
        "])"
      ]
    },
    {
      "cell_type": "code",
      "execution_count": 17,
      "metadata": {
        "colab": {
          "base_uri": "https://localhost:8080/"
        },
        "id": "ypqky9tc9hE1",
        "outputId": "5db082bb-30e3-4110-bf63-a1ee777ecd46"
      },
      "outputs": [
        {
          "name": "stdout",
          "output_type": "stream",
          "text": [
            "Model: \"sequential_2\"\n",
            "_________________________________________________________________\n",
            " Layer (type)                Output Shape              Param #   \n",
            "=================================================================\n",
            " batch_normalization (BatchN  (None, 42)               168       \n",
            " ormalization)                                                   \n",
            "                                                                 \n",
            " dropout_4 (Dropout)         (None, 42)                0         \n",
            "                                                                 \n",
            " dense_6 (Dense)             (None, 24)                1032      \n",
            "                                                                 \n",
            " batch_normalization_1 (Batc  (None, 24)               96        \n",
            " hNormalization)                                                 \n",
            "                                                                 \n",
            " dropout_5 (Dropout)         (None, 24)                0         \n",
            "                                                                 \n",
            " dense_7 (Dense)             (None, 16)                400       \n",
            "                                                                 \n",
            " gesture_recognizer_out (Den  (None, 16)               272       \n",
            " se)                                                             \n",
            "                                                                 \n",
            "=================================================================\n",
            "Total params: 1,968\n",
            "Trainable params: 1,836\n",
            "Non-trainable params: 132\n",
            "_________________________________________________________________\n"
          ]
        }
      ],
      "source": [
        "model.summary()  "
      ]
    },
    {
      "cell_type": "code",
      "execution_count": 18,
      "metadata": {
        "id": "MbMjOflQ9hE1"
      },
      "outputs": [],
      "source": [
        "# Model checkpoint callback\n",
        "cp_callback = tf.keras.callbacks.ModelCheckpoint(\n",
        "    model_save_path, verbose=1, save_weights_only=False)\n",
        "# Callback for early stopping\n",
        "es_callback = tf.keras.callbacks.EarlyStopping(patience=20, verbose=1)"
      ]
    },
    {
      "cell_type": "code",
      "execution_count": 19,
      "metadata": {
        "id": "c3Dac0M_9hE2"
      },
      "outputs": [],
      "source": [
        "# Model compilation\n",
        "model.compile(\n",
        "    optimizer='adam',\n",
        "    loss='sparse_categorical_crossentropy',\n",
        "    metrics=['accuracy']\n",
        ")"
      ]
    },
    {
      "cell_type": "markdown",
      "metadata": {
        "id": "7XI0j1Iu9hE2"
      },
      "source": [
        "# Model training"
      ]
    },
    {
      "cell_type": "code",
      "execution_count": 20,
      "metadata": {
        "colab": {
          "base_uri": "https://localhost:8080/"
        },
        "id": "WirBl-JE9hE3",
        "outputId": "71b30ca2-8294-4d9d-8aa2-800d90d399de",
        "scrolled": true
      },
      "outputs": [
        {
          "name": "stdout",
          "output_type": "stream",
          "text": [
            "Epoch 1/75\n",
            "238/256 [==========================>...] - ETA: 0s - loss: 1.6076 - accuracy: 0.5440\n",
            "Epoch 1: saving model to model/hand_detection\\hand_detection_model.keras\n",
            "256/256 [==============================] - 1s 3ms/step - loss: 1.5523 - accuracy: 0.5596 - val_loss: 0.8014 - val_accuracy: 0.8085\n",
            "Epoch 2/75\n",
            "228/256 [=========================>....] - ETA: 0s - loss: 0.6300 - accuracy: 0.8310\n",
            "Epoch 2: saving model to model/hand_detection\\hand_detection_model.keras\n",
            "256/256 [==============================] - 1s 2ms/step - loss: 0.6139 - accuracy: 0.8355 - val_loss: 0.3773 - val_accuracy: 0.9015\n",
            "Epoch 3/75\n",
            "254/256 [============================>.] - ETA: 0s - loss: 0.4578 - accuracy: 0.8711\n",
            "Epoch 3: saving model to model/hand_detection\\hand_detection_model.keras\n",
            "256/256 [==============================] - 1s 2ms/step - loss: 0.4580 - accuracy: 0.8710 - val_loss: 0.3201 - val_accuracy: 0.9118\n",
            "Epoch 4/75\n",
            "249/256 [============================>.] - ETA: 0s - loss: 0.4115 - accuracy: 0.8832\n",
            "Epoch 4: saving model to model/hand_detection\\hand_detection_model.keras\n",
            "256/256 [==============================] - 1s 2ms/step - loss: 0.4112 - accuracy: 0.8832 - val_loss: 0.3014 - val_accuracy: 0.9146\n",
            "Epoch 5/75\n",
            "254/256 [============================>.] - ETA: 0s - loss: 0.3766 - accuracy: 0.8892\n",
            "Epoch 5: saving model to model/hand_detection\\hand_detection_model.keras\n",
            "256/256 [==============================] - 1s 2ms/step - loss: 0.3764 - accuracy: 0.8893 - val_loss: 0.2872 - val_accuracy: 0.9163\n",
            "Epoch 6/75\n",
            "252/256 [============================>.] - ETA: 0s - loss: 0.3608 - accuracy: 0.8925\n",
            "Epoch 6: saving model to model/hand_detection\\hand_detection_model.keras\n",
            "256/256 [==============================] - 1s 2ms/step - loss: 0.3612 - accuracy: 0.8921 - val_loss: 0.2787 - val_accuracy: 0.9170\n",
            "Epoch 7/75\n",
            "228/256 [=========================>....] - ETA: 0s - loss: 0.3482 - accuracy: 0.8951\n",
            "Epoch 7: saving model to model/hand_detection\\hand_detection_model.keras\n",
            "256/256 [==============================] - 1s 2ms/step - loss: 0.3478 - accuracy: 0.8956 - val_loss: 0.2722 - val_accuracy: 0.9174\n",
            "Epoch 8/75\n",
            "238/256 [==========================>...] - ETA: 0s - loss: 0.3457 - accuracy: 0.8955\n",
            "Epoch 8: saving model to model/hand_detection\\hand_detection_model.keras\n",
            "256/256 [==============================] - 1s 2ms/step - loss: 0.3456 - accuracy: 0.8949 - val_loss: 0.2686 - val_accuracy: 0.9176\n",
            "Epoch 9/75\n",
            "245/256 [===========================>..] - ETA: 0s - loss: 0.3317 - accuracy: 0.8985\n",
            "Epoch 9: saving model to model/hand_detection\\hand_detection_model.keras\n",
            "256/256 [==============================] - 1s 2ms/step - loss: 0.3312 - accuracy: 0.8984 - val_loss: 0.2661 - val_accuracy: 0.9172\n",
            "Epoch 10/75\n",
            "231/256 [==========================>...] - ETA: 0s - loss: 0.3248 - accuracy: 0.9017\n",
            "Epoch 10: saving model to model/hand_detection\\hand_detection_model.keras\n",
            "256/256 [==============================] - 1s 2ms/step - loss: 0.3247 - accuracy: 0.9012 - val_loss: 0.2602 - val_accuracy: 0.9197\n",
            "Epoch 11/75\n",
            "231/256 [==========================>...] - ETA: 0s - loss: 0.3208 - accuracy: 0.9023\n",
            "Epoch 11: saving model to model/hand_detection\\hand_detection_model.keras\n",
            "256/256 [==============================] - 0s 2ms/step - loss: 0.3199 - accuracy: 0.9025 - val_loss: 0.2604 - val_accuracy: 0.9200\n",
            "Epoch 12/75\n",
            "233/256 [==========================>...] - ETA: 0s - loss: 0.3168 - accuracy: 0.9019\n",
            "Epoch 12: saving model to model/hand_detection\\hand_detection_model.keras\n",
            "256/256 [==============================] - 0s 2ms/step - loss: 0.3145 - accuracy: 0.9025 - val_loss: 0.2583 - val_accuracy: 0.9211\n",
            "Epoch 13/75\n",
            "222/256 [=========================>....] - ETA: 0s - loss: 0.3120 - accuracy: 0.9030\n",
            "Epoch 13: saving model to model/hand_detection\\hand_detection_model.keras\n",
            "256/256 [==============================] - 1s 2ms/step - loss: 0.3098 - accuracy: 0.9039 - val_loss: 0.2558 - val_accuracy: 0.9213\n",
            "Epoch 14/75\n",
            "244/256 [===========================>..] - ETA: 0s - loss: 0.3109 - accuracy: 0.9037\n",
            "Epoch 14: saving model to model/hand_detection\\hand_detection_model.keras\n",
            "256/256 [==============================] - 1s 2ms/step - loss: 0.3081 - accuracy: 0.9047 - val_loss: 0.2520 - val_accuracy: 0.9219\n",
            "Epoch 15/75\n",
            "246/256 [===========================>..] - ETA: 0s - loss: 0.3053 - accuracy: 0.9049\n",
            "Epoch 15: saving model to model/hand_detection\\hand_detection_model.keras\n",
            "256/256 [==============================] - 1s 2ms/step - loss: 0.3059 - accuracy: 0.9050 - val_loss: 0.2516 - val_accuracy: 0.9227\n",
            "Epoch 16/75\n",
            "246/256 [===========================>..] - ETA: 0s - loss: 0.3031 - accuracy: 0.9065\n",
            "Epoch 16: saving model to model/hand_detection\\hand_detection_model.keras\n",
            "256/256 [==============================] - 1s 2ms/step - loss: 0.3017 - accuracy: 0.9067 - val_loss: 0.2476 - val_accuracy: 0.9216\n",
            "Epoch 17/75\n",
            "242/256 [===========================>..] - ETA: 0s - loss: 0.2953 - accuracy: 0.9096\n",
            "Epoch 17: saving model to model/hand_detection\\hand_detection_model.keras\n",
            "256/256 [==============================] - 1s 3ms/step - loss: 0.2965 - accuracy: 0.9093 - val_loss: 0.2471 - val_accuracy: 0.9233\n",
            "Epoch 18/75\n",
            "241/256 [===========================>..] - ETA: 0s - loss: 0.2917 - accuracy: 0.9096\n",
            "Epoch 18: saving model to model/hand_detection\\hand_detection_model.keras\n",
            "256/256 [==============================] - 1s 2ms/step - loss: 0.2925 - accuracy: 0.9093 - val_loss: 0.2474 - val_accuracy: 0.9217\n",
            "Epoch 19/75\n",
            "244/256 [===========================>..] - ETA: 0s - loss: 0.2885 - accuracy: 0.9113\n",
            "Epoch 19: saving model to model/hand_detection\\hand_detection_model.keras\n",
            "256/256 [==============================] - 1s 2ms/step - loss: 0.2895 - accuracy: 0.9109 - val_loss: 0.2457 - val_accuracy: 0.9222\n",
            "Epoch 20/75\n",
            "229/256 [=========================>....] - ETA: 0s - loss: 0.2904 - accuracy: 0.9106\n",
            "Epoch 20: saving model to model/hand_detection\\hand_detection_model.keras\n",
            "256/256 [==============================] - 1s 3ms/step - loss: 0.2896 - accuracy: 0.9110 - val_loss: 0.2422 - val_accuracy: 0.9233\n",
            "Epoch 21/75\n",
            "239/256 [===========================>..] - ETA: 0s - loss: 0.2854 - accuracy: 0.9125\n",
            "Epoch 21: saving model to model/hand_detection\\hand_detection_model.keras\n",
            "256/256 [==============================] - 1s 2ms/step - loss: 0.2839 - accuracy: 0.9125 - val_loss: 0.2416 - val_accuracy: 0.9235\n",
            "Epoch 22/75\n",
            "236/256 [==========================>...] - ETA: 0s - loss: 0.2813 - accuracy: 0.9140\n",
            "Epoch 22: saving model to model/hand_detection\\hand_detection_model.keras\n",
            "256/256 [==============================] - 0s 2ms/step - loss: 0.2824 - accuracy: 0.9137 - val_loss: 0.2422 - val_accuracy: 0.9229\n",
            "Epoch 23/75\n",
            "238/256 [==========================>...] - ETA: 0s - loss: 0.2823 - accuracy: 0.9130\n",
            "Epoch 23: saving model to model/hand_detection\\hand_detection_model.keras\n",
            "256/256 [==============================] - 1s 2ms/step - loss: 0.2835 - accuracy: 0.9127 - val_loss: 0.2425 - val_accuracy: 0.9228\n",
            "Epoch 24/75\n",
            "250/256 [============================>.] - ETA: 0s - loss: 0.2763 - accuracy: 0.9150\n",
            "Epoch 24: saving model to model/hand_detection\\hand_detection_model.keras\n",
            "256/256 [==============================] - 1s 2ms/step - loss: 0.2768 - accuracy: 0.9147 - val_loss: 0.2453 - val_accuracy: 0.9213\n",
            "Epoch 25/75\n",
            "241/256 [===========================>..] - ETA: 0s - loss: 0.2769 - accuracy: 0.9141\n",
            "Epoch 25: saving model to model/hand_detection\\hand_detection_model.keras\n",
            "256/256 [==============================] - 1s 2ms/step - loss: 0.2760 - accuracy: 0.9142 - val_loss: 0.2417 - val_accuracy: 0.9227\n",
            "Epoch 26/75\n",
            "250/256 [============================>.] - ETA: 0s - loss: 0.2783 - accuracy: 0.9142\n",
            "Epoch 26: saving model to model/hand_detection\\hand_detection_model.keras\n",
            "256/256 [==============================] - 1s 2ms/step - loss: 0.2786 - accuracy: 0.9141 - val_loss: 0.2407 - val_accuracy: 0.9233\n",
            "Epoch 27/75\n",
            "232/256 [==========================>...] - ETA: 0s - loss: 0.2731 - accuracy: 0.9151\n",
            "Epoch 27: saving model to model/hand_detection\\hand_detection_model.keras\n",
            "256/256 [==============================] - 1s 2ms/step - loss: 0.2756 - accuracy: 0.9143 - val_loss: 0.2400 - val_accuracy: 0.9239\n",
            "Epoch 28/75\n",
            "233/256 [==========================>...] - ETA: 0s - loss: 0.2714 - accuracy: 0.9163\n",
            "Epoch 28: saving model to model/hand_detection\\hand_detection_model.keras\n",
            "256/256 [==============================] - 1s 2ms/step - loss: 0.2729 - accuracy: 0.9160 - val_loss: 0.2393 - val_accuracy: 0.9231\n",
            "Epoch 29/75\n",
            "256/256 [==============================] - ETA: 0s - loss: 0.2743 - accuracy: 0.9155\n",
            "Epoch 29: saving model to model/hand_detection\\hand_detection_model.keras\n",
            "256/256 [==============================] - 1s 2ms/step - loss: 0.2743 - accuracy: 0.9155 - val_loss: 0.2374 - val_accuracy: 0.9245\n",
            "Epoch 30/75\n",
            "231/256 [==========================>...] - ETA: 0s - loss: 0.2744 - accuracy: 0.9138\n",
            "Epoch 30: saving model to model/hand_detection\\hand_detection_model.keras\n",
            "256/256 [==============================] - 0s 2ms/step - loss: 0.2750 - accuracy: 0.9142 - val_loss: 0.2384 - val_accuracy: 0.9240\n",
            "Epoch 31/75\n",
            "230/256 [=========================>....] - ETA: 0s - loss: 0.2760 - accuracy: 0.9142\n",
            "Epoch 31: saving model to model/hand_detection\\hand_detection_model.keras\n",
            "256/256 [==============================] - 0s 2ms/step - loss: 0.2727 - accuracy: 0.9151 - val_loss: 0.2358 - val_accuracy: 0.9249\n",
            "Epoch 32/75\n",
            "241/256 [===========================>..] - ETA: 0s - loss: 0.2735 - accuracy: 0.9145\n",
            "Epoch 32: saving model to model/hand_detection\\hand_detection_model.keras\n",
            "256/256 [==============================] - 0s 2ms/step - loss: 0.2718 - accuracy: 0.9153 - val_loss: 0.2365 - val_accuracy: 0.9236\n",
            "Epoch 33/75\n",
            "241/256 [===========================>..] - ETA: 0s - loss: 0.2737 - accuracy: 0.9158\n",
            "Epoch 33: saving model to model/hand_detection\\hand_detection_model.keras\n",
            "256/256 [==============================] - 0s 2ms/step - loss: 0.2739 - accuracy: 0.9158 - val_loss: 0.2356 - val_accuracy: 0.9240\n",
            "Epoch 34/75\n",
            "242/256 [===========================>..] - ETA: 0s - loss: 0.2697 - accuracy: 0.9159\n",
            "Epoch 34: saving model to model/hand_detection\\hand_detection_model.keras\n",
            "256/256 [==============================] - 0s 2ms/step - loss: 0.2703 - accuracy: 0.9160 - val_loss: 0.2378 - val_accuracy: 0.9235\n",
            "Epoch 35/75\n",
            "240/256 [===========================>..] - ETA: 0s - loss: 0.2714 - accuracy: 0.9154\n",
            "Epoch 35: saving model to model/hand_detection\\hand_detection_model.keras\n",
            "256/256 [==============================] - 0s 2ms/step - loss: 0.2704 - accuracy: 0.9159 - val_loss: 0.2366 - val_accuracy: 0.9240\n",
            "Epoch 36/75\n",
            "240/256 [===========================>..] - ETA: 0s - loss: 0.2670 - accuracy: 0.9172\n",
            "Epoch 36: saving model to model/hand_detection\\hand_detection_model.keras\n",
            "256/256 [==============================] - 0s 2ms/step - loss: 0.2659 - accuracy: 0.9173 - val_loss: 0.2382 - val_accuracy: 0.9227\n",
            "Epoch 37/75\n",
            "240/256 [===========================>..] - ETA: 0s - loss: 0.2692 - accuracy: 0.9166\n",
            "Epoch 37: saving model to model/hand_detection\\hand_detection_model.keras\n",
            "256/256 [==============================] - 0s 2ms/step - loss: 0.2687 - accuracy: 0.9168 - val_loss: 0.2377 - val_accuracy: 0.9234\n",
            "Epoch 38/75\n",
            "238/256 [==========================>...] - ETA: 0s - loss: 0.2702 - accuracy: 0.9162\n",
            "Epoch 38: saving model to model/hand_detection\\hand_detection_model.keras\n",
            "256/256 [==============================] - 0s 2ms/step - loss: 0.2685 - accuracy: 0.9167 - val_loss: 0.2346 - val_accuracy: 0.9240\n",
            "Epoch 39/75\n",
            "225/256 [=========================>....] - ETA: 0s - loss: 0.2674 - accuracy: 0.9175\n",
            "Epoch 39: saving model to model/hand_detection\\hand_detection_model.keras\n",
            "256/256 [==============================] - 1s 2ms/step - loss: 0.2677 - accuracy: 0.9172 - val_loss: 0.2345 - val_accuracy: 0.9239\n",
            "Epoch 40/75\n",
            "241/256 [===========================>..] - ETA: 0s - loss: 0.2679 - accuracy: 0.9169\n",
            "Epoch 40: saving model to model/hand_detection\\hand_detection_model.keras\n",
            "256/256 [==============================] - 0s 2ms/step - loss: 0.2684 - accuracy: 0.9166 - val_loss: 0.2352 - val_accuracy: 0.9244\n",
            "Epoch 41/75\n",
            "241/256 [===========================>..] - ETA: 0s - loss: 0.2635 - accuracy: 0.9156\n",
            "Epoch 41: saving model to model/hand_detection\\hand_detection_model.keras\n",
            "256/256 [==============================] - 0s 2ms/step - loss: 0.2656 - accuracy: 0.9151 - val_loss: 0.2359 - val_accuracy: 0.9229\n",
            "Epoch 42/75\n",
            "242/256 [===========================>..] - ETA: 0s - loss: 0.2651 - accuracy: 0.9183\n",
            "Epoch 42: saving model to model/hand_detection\\hand_detection_model.keras\n",
            "256/256 [==============================] - 0s 2ms/step - loss: 0.2680 - accuracy: 0.9174 - val_loss: 0.2344 - val_accuracy: 0.9241\n",
            "Epoch 43/75\n",
            "237/256 [==========================>...] - ETA: 0s - loss: 0.2612 - accuracy: 0.9179\n",
            "Epoch 43: saving model to model/hand_detection\\hand_detection_model.keras\n",
            "256/256 [==============================] - 0s 2ms/step - loss: 0.2625 - accuracy: 0.9174 - val_loss: 0.2346 - val_accuracy: 0.9239\n",
            "Epoch 44/75\n",
            "241/256 [===========================>..] - ETA: 0s - loss: 0.2647 - accuracy: 0.9175\n",
            "Epoch 44: saving model to model/hand_detection\\hand_detection_model.keras\n",
            "256/256 [==============================] - 0s 2ms/step - loss: 0.2628 - accuracy: 0.9181 - val_loss: 0.2349 - val_accuracy: 0.9238\n",
            "Epoch 45/75\n",
            "243/256 [===========================>..] - ETA: 0s - loss: 0.2633 - accuracy: 0.9173\n",
            "Epoch 45: saving model to model/hand_detection\\hand_detection_model.keras\n",
            "256/256 [==============================] - 0s 2ms/step - loss: 0.2635 - accuracy: 0.9171 - val_loss: 0.2368 - val_accuracy: 0.9233\n",
            "Epoch 46/75\n",
            "236/256 [==========================>...] - ETA: 0s - loss: 0.2630 - accuracy: 0.9169\n",
            "Epoch 46: saving model to model/hand_detection\\hand_detection_model.keras\n",
            "256/256 [==============================] - 0s 2ms/step - loss: 0.2623 - accuracy: 0.9175 - val_loss: 0.2333 - val_accuracy: 0.9249\n",
            "Epoch 47/75\n",
            "241/256 [===========================>..] - ETA: 0s - loss: 0.2628 - accuracy: 0.9165\n",
            "Epoch 47: saving model to model/hand_detection\\hand_detection_model.keras\n",
            "256/256 [==============================] - 0s 2ms/step - loss: 0.2631 - accuracy: 0.9164 - val_loss: 0.2329 - val_accuracy: 0.9246\n",
            "Epoch 48/75\n",
            "240/256 [===========================>..] - ETA: 0s - loss: 0.2642 - accuracy: 0.9174\n",
            "Epoch 48: saving model to model/hand_detection\\hand_detection_model.keras\n",
            "256/256 [==============================] - 0s 2ms/step - loss: 0.2642 - accuracy: 0.9173 - val_loss: 0.2336 - val_accuracy: 0.9244\n",
            "Epoch 49/75\n",
            "226/256 [=========================>....] - ETA: 0s - loss: 0.2610 - accuracy: 0.9191\n",
            "Epoch 49: saving model to model/hand_detection\\hand_detection_model.keras\n",
            "256/256 [==============================] - 0s 2ms/step - loss: 0.2599 - accuracy: 0.9192 - val_loss: 0.2329 - val_accuracy: 0.9245\n",
            "Epoch 50/75\n",
            "236/256 [==========================>...] - ETA: 0s - loss: 0.2616 - accuracy: 0.9180\n",
            "Epoch 50: saving model to model/hand_detection\\hand_detection_model.keras\n",
            "256/256 [==============================] - 0s 2ms/step - loss: 0.2642 - accuracy: 0.9173 - val_loss: 0.2329 - val_accuracy: 0.9244\n",
            "Epoch 51/75\n",
            "240/256 [===========================>..] - ETA: 0s - loss: 0.2672 - accuracy: 0.9167\n",
            "Epoch 51: saving model to model/hand_detection\\hand_detection_model.keras\n",
            "256/256 [==============================] - 0s 2ms/step - loss: 0.2653 - accuracy: 0.9175 - val_loss: 0.2340 - val_accuracy: 0.9242\n",
            "Epoch 52/75\n",
            "243/256 [===========================>..] - ETA: 0s - loss: 0.2636 - accuracy: 0.9186\n",
            "Epoch 52: saving model to model/hand_detection\\hand_detection_model.keras\n",
            "256/256 [==============================] - 0s 2ms/step - loss: 0.2648 - accuracy: 0.9180 - val_loss: 0.2335 - val_accuracy: 0.9244\n",
            "Epoch 53/75\n",
            "242/256 [===========================>..] - ETA: 0s - loss: 0.2631 - accuracy: 0.9175\n",
            "Epoch 53: saving model to model/hand_detection\\hand_detection_model.keras\n",
            "256/256 [==============================] - 0s 2ms/step - loss: 0.2635 - accuracy: 0.9175 - val_loss: 0.2333 - val_accuracy: 0.9245\n",
            "Epoch 54/75\n",
            "253/256 [============================>.] - ETA: 0s - loss: 0.2618 - accuracy: 0.9188\n",
            "Epoch 54: saving model to model/hand_detection\\hand_detection_model.keras\n",
            "256/256 [==============================] - 1s 2ms/step - loss: 0.2612 - accuracy: 0.9191 - val_loss: 0.2344 - val_accuracy: 0.9249\n",
            "Epoch 55/75\n",
            "242/256 [===========================>..] - ETA: 0s - loss: 0.2616 - accuracy: 0.9180\n",
            "Epoch 55: saving model to model/hand_detection\\hand_detection_model.keras\n",
            "256/256 [==============================] - 0s 2ms/step - loss: 0.2638 - accuracy: 0.9174 - val_loss: 0.2299 - val_accuracy: 0.9252\n",
            "Epoch 56/75\n",
            "244/256 [===========================>..] - ETA: 0s - loss: 0.2617 - accuracy: 0.9179\n",
            "Epoch 56: saving model to model/hand_detection\\hand_detection_model.keras\n",
            "256/256 [==============================] - 0s 2ms/step - loss: 0.2627 - accuracy: 0.9178 - val_loss: 0.2350 - val_accuracy: 0.9238\n",
            "Epoch 57/75\n",
            "243/256 [===========================>..] - ETA: 0s - loss: 0.2611 - accuracy: 0.9184\n",
            "Epoch 57: saving model to model/hand_detection\\hand_detection_model.keras\n",
            "256/256 [==============================] - 0s 2ms/step - loss: 0.2614 - accuracy: 0.9183 - val_loss: 0.2316 - val_accuracy: 0.9249\n",
            "Epoch 58/75\n",
            "229/256 [=========================>....] - ETA: 0s - loss: 0.2618 - accuracy: 0.9182\n",
            "Epoch 58: saving model to model/hand_detection\\hand_detection_model.keras\n",
            "256/256 [==============================] - 0s 2ms/step - loss: 0.2609 - accuracy: 0.9186 - val_loss: 0.2332 - val_accuracy: 0.9247\n",
            "Epoch 59/75\n",
            "240/256 [===========================>..] - ETA: 0s - loss: 0.2596 - accuracy: 0.9180\n",
            "Epoch 59: saving model to model/hand_detection\\hand_detection_model.keras\n",
            "256/256 [==============================] - 0s 2ms/step - loss: 0.2599 - accuracy: 0.9179 - val_loss: 0.2316 - val_accuracy: 0.9252\n",
            "Epoch 60/75\n",
            "240/256 [===========================>..] - ETA: 0s - loss: 0.2577 - accuracy: 0.9184\n",
            "Epoch 60: saving model to model/hand_detection\\hand_detection_model.keras\n",
            "256/256 [==============================] - 0s 2ms/step - loss: 0.2582 - accuracy: 0.9185 - val_loss: 0.2312 - val_accuracy: 0.9257\n",
            "Epoch 61/75\n",
            "242/256 [===========================>..] - ETA: 0s - loss: 0.2596 - accuracy: 0.9187\n",
            "Epoch 61: saving model to model/hand_detection\\hand_detection_model.keras\n",
            "256/256 [==============================] - 0s 2ms/step - loss: 0.2616 - accuracy: 0.9183 - val_loss: 0.2319 - val_accuracy: 0.9235\n",
            "Epoch 62/75\n",
            "243/256 [===========================>..] - ETA: 0s - loss: 0.2615 - accuracy: 0.9177\n",
            "Epoch 62: saving model to model/hand_detection\\hand_detection_model.keras\n",
            "256/256 [==============================] - 0s 2ms/step - loss: 0.2588 - accuracy: 0.9184 - val_loss: 0.2328 - val_accuracy: 0.9236\n",
            "Epoch 63/75\n",
            "246/256 [===========================>..] - ETA: 0s - loss: 0.2592 - accuracy: 0.9185\n",
            "Epoch 63: saving model to model/hand_detection\\hand_detection_model.keras\n",
            "256/256 [==============================] - 0s 2ms/step - loss: 0.2587 - accuracy: 0.9185 - val_loss: 0.2386 - val_accuracy: 0.9229\n",
            "Epoch 64/75\n",
            "245/256 [===========================>..] - ETA: 0s - loss: 0.2608 - accuracy: 0.9180\n",
            "Epoch 64: saving model to model/hand_detection\\hand_detection_model.keras\n",
            "256/256 [==============================] - 0s 2ms/step - loss: 0.2589 - accuracy: 0.9188 - val_loss: 0.2339 - val_accuracy: 0.9251\n",
            "Epoch 65/75\n",
            "243/256 [===========================>..] - ETA: 0s - loss: 0.2571 - accuracy: 0.9199\n",
            "Epoch 65: saving model to model/hand_detection\\hand_detection_model.keras\n",
            "256/256 [==============================] - 0s 2ms/step - loss: 0.2580 - accuracy: 0.9196 - val_loss: 0.2333 - val_accuracy: 0.9244\n",
            "Epoch 66/75\n",
            "242/256 [===========================>..] - ETA: 0s - loss: 0.2567 - accuracy: 0.9198\n",
            "Epoch 66: saving model to model/hand_detection\\hand_detection_model.keras\n",
            "256/256 [==============================] - 0s 2ms/step - loss: 0.2573 - accuracy: 0.9196 - val_loss: 0.2305 - val_accuracy: 0.9250\n",
            "Epoch 67/75\n",
            "255/256 [============================>.] - ETA: 0s - loss: 0.2549 - accuracy: 0.9202\n",
            "Epoch 67: saving model to model/hand_detection\\hand_detection_model.keras\n",
            "256/256 [==============================] - 1s 2ms/step - loss: 0.2550 - accuracy: 0.9201 - val_loss: 0.2297 - val_accuracy: 0.9258\n",
            "Epoch 68/75\n",
            "244/256 [===========================>..] - ETA: 0s - loss: 0.2569 - accuracy: 0.9203\n",
            "Epoch 68: saving model to model/hand_detection\\hand_detection_model.keras\n",
            "256/256 [==============================] - 0s 2ms/step - loss: 0.2572 - accuracy: 0.9201 - val_loss: 0.2297 - val_accuracy: 0.9249\n",
            "Epoch 69/75\n",
            "242/256 [===========================>..] - ETA: 0s - loss: 0.2572 - accuracy: 0.9193\n",
            "Epoch 69: saving model to model/hand_detection\\hand_detection_model.keras\n",
            "256/256 [==============================] - 0s 2ms/step - loss: 0.2574 - accuracy: 0.9189 - val_loss: 0.2323 - val_accuracy: 0.9250\n",
            "Epoch 70/75\n",
            "239/256 [===========================>..] - ETA: 0s - loss: 0.2572 - accuracy: 0.9196\n",
            "Epoch 70: saving model to model/hand_detection\\hand_detection_model.keras\n",
            "256/256 [==============================] - 0s 2ms/step - loss: 0.2570 - accuracy: 0.9196 - val_loss: 0.2316 - val_accuracy: 0.9250\n",
            "Epoch 71/75\n",
            "244/256 [===========================>..] - ETA: 0s - loss: 0.2617 - accuracy: 0.9178\n",
            "Epoch 71: saving model to model/hand_detection\\hand_detection_model.keras\n",
            "256/256 [==============================] - 0s 2ms/step - loss: 0.2597 - accuracy: 0.9183 - val_loss: 0.2302 - val_accuracy: 0.9249\n",
            "Epoch 72/75\n",
            "242/256 [===========================>..] - ETA: 0s - loss: 0.2589 - accuracy: 0.9191\n",
            "Epoch 72: saving model to model/hand_detection\\hand_detection_model.keras\n",
            "256/256 [==============================] - 0s 2ms/step - loss: 0.2592 - accuracy: 0.9189 - val_loss: 0.2298 - val_accuracy: 0.9246\n",
            "Epoch 73/75\n",
            "242/256 [===========================>..] - ETA: 0s - loss: 0.2571 - accuracy: 0.9196\n",
            "Epoch 73: saving model to model/hand_detection\\hand_detection_model.keras\n",
            "256/256 [==============================] - 0s 2ms/step - loss: 0.2572 - accuracy: 0.9199 - val_loss: 0.2299 - val_accuracy: 0.9253\n",
            "Epoch 74/75\n",
            "243/256 [===========================>..] - ETA: 0s - loss: 0.2521 - accuracy: 0.9208\n",
            "Epoch 74: saving model to model/hand_detection\\hand_detection_model.keras\n",
            "256/256 [==============================] - 0s 2ms/step - loss: 0.2568 - accuracy: 0.9193 - val_loss: 0.2307 - val_accuracy: 0.9244\n",
            "Epoch 75/75\n",
            "244/256 [===========================>..] - ETA: 0s - loss: 0.2544 - accuracy: 0.9197\n",
            "Epoch 75: saving model to model/hand_detection\\hand_detection_model.keras\n",
            "256/256 [==============================] - 0s 2ms/step - loss: 0.2555 - accuracy: 0.9193 - val_loss: 0.2318 - val_accuracy: 0.9251\n"
          ]
        }
      ],
      "source": [
        "history = model.fit(\n",
        "    X_train,\n",
        "    y_train,\n",
        "    epochs=75,\n",
        "    batch_size=128,\n",
        "    validation_data=(X_test,y_test),\n",
        "    callbacks=[cp_callback, es_callback]\n",
        ")"
      ]
    },
    {
      "cell_type": "code",
      "execution_count": 21,
      "metadata": {},
      "outputs": [
        {
          "name": "stdout",
          "output_type": "stream",
          "text": [
            "acc 0.9192533493041992\n",
            "val_acc 0.9250977635383606\n"
          ]
        }
      ],
      "source": [
        "print('acc' , history.history['accuracy'][-1])\n",
        "print('val_acc' ,history.history['val_accuracy'][-1])"
      ]
    },
    {
      "cell_type": "code",
      "execution_count": 22,
      "metadata": {},
      "outputs": [
        {
          "data": {
            "image/png": "[encoded data removed]",
            "text/plain": [
              "<Figure size 640x480 with 1 Axes>"
            ]
          },
          "metadata": {},
          "output_type": "display_data"
        }
      ],
      "source": [
        "import keras\n",
        "from matplotlib import pyplot as plt\n",
        "\n",
        "plt.plot(history.history['accuracy'])\n",
        "plt.plot(history.history['val_accuracy'])\n",
        "plt.title('model accuracy')\n",
        "plt.ylabel('accuracy')\n",
        "plt.xlabel('epoch')\n",
        "plt.legend(['train', 'val'], loc='upper left')\n",
        "plt.show()"
      ]
    },
    {
      "cell_type": "code",
      "execution_count": 23,
      "metadata": {},
      "outputs": [
        {
          "data": {
            "image/png": "[encoded data removed]",
            "text/plain": [
              "<Figure size 640x480 with 1 Axes>"
            ]
          },
          "metadata": {},
          "output_type": "display_data"
        }
      ],
      "source": [
        "plt.plot(history.history['loss'])\n",
        "plt.plot(history.history['val_loss'])\n",
        "plt.title('model loss')\n",
        "plt.ylabel('loss')\n",
        "plt.xlabel('epoch')\n",
        "plt.legend(['train', 'val'], loc='upper left')\n",
        "plt.show()"
      ]
    },
    {
      "cell_type": "code",
      "execution_count": 24,
      "metadata": {
        "colab": {
          "base_uri": "https://localhost:8080/"
        },
        "id": "pxvb2Y299hE3",
        "outputId": "59eb3185-2e37-4b9e-bc9d-ab1b8ac29b7f"
      },
      "outputs": [
        {
          "name": "stdout",
          "output_type": "stream",
          "text": [
            " 1/64 [..............................] - ETA: 1s - loss: 0.3728 - accuracy: 0.8750"
          ]
        },
        {
          "name": "stdout",
          "output_type": "stream",
          "text": [
            "64/64 [==============================] - 0s 947us/step - loss: 0.2318 - accuracy: 0.9251\n"
          ]
        }
      ],
      "source": [
        "# Model evaluation\n",
        "val_loss, val_acc = model.evaluate(X_test, y_test, batch_size=128)"
      ]
    },
    {
      "cell_type": "code",
      "execution_count": 25,
      "metadata": {
        "colab": {
          "base_uri": "https://localhost:8080/"
        },
        "id": "tFz9Tb0I9hE4",
        "outputId": "1c3b3528-54ae-4ee2-ab04-77429211cbef"
      },
      "outputs": [
        {
          "name": "stdout",
          "output_type": "stream",
          "text": [
            "1/1 [==============================] - 0s 87ms/step\n",
            "[7.4675978e-23 9.9627161e-01 1.2845931e-05 2.3025904e-12 1.7324087e-10\n",
            " 5.0330318e-09 8.6270111e-09 3.5557179e-09 5.1005054e-09 9.4686534e-08\n",
            " 6.0158847e-09 6.8088146e-11 6.8929268e-07 3.3931558e-03 8.4184478e-08\n",
            " 3.2145903e-04]\n",
            "1\n"
          ]
        }
      ],
      "source": [
        "# Inference test\n",
        "predict_result = model.predict(np.array([X_test[0]]))\n",
        "print(np.squeeze(predict_result))\n",
        "print(np.argmax(np.squeeze(predict_result)))"
      ]
    },
    {
      "cell_type": "code",
      "execution_count": 26,
      "metadata": {},
      "outputs": [
        {
          "data": {
            "text/plain": [
              "0.9962716"
            ]
          },
          "execution_count": 26,
          "metadata": {},
          "output_type": "execute_result"
        }
      ],
      "source": [
        "accuracy = np.max(predict_result)\n",
        "accuracy"
      ]
    },
    {
      "cell_type": "markdown",
      "metadata": {
        "id": "S3U4yNWx9hE4"
      },
      "source": [
        "# Confusion matrix"
      ]
    },
    {
      "cell_type": "code",
      "execution_count": null,
      "metadata": {
        "colab": {
          "base_uri": "https://localhost:8080/",
          "height": 582
        },
        "id": "AP1V6SCk9hE5",
        "outputId": "08e41a80-7a4a-4619-8125-ecc371368d19"
      },
      "outputs": [],
      "source": [
        "import pandas as pd\n",
        "import seaborn as sns\n",
        "import matplotlib.pyplot as plt\n",
        "from sklearn.metrics import confusion_matrix, classification_report\n",
        "\n",
        "def print_confusion_matrix(y_true, y_pred, report=True):\n",
        "    labels = sorted(list(set(y_true)))\n",
        "    cmx_data = confusion_matrix(y_true, y_pred, labels=labels)\n",
        "    \n",
        "    df_cmx = pd.DataFrame(cmx_data, index=labels, columns=labels)\n",
        " \n",
        "    fig, ax = plt.subplots(figsize=(7, 6))\n",
        "    sns.heatmap(df_cmx, annot=True, fmt='g' ,square=False)\n",
        "    ax.set_ylim(len(set(y_true)), 0)\n",
        "    plt.show()\n",
        "    \n",
        "    if report:\n",
        "        print('Classification Report')\n",
        "        print(classification_report(y_test, y_pred))\n",
        "\n",
        "Y_pred = model.predict(X_test)\n",
        "y_pred = np.argmax(Y_pred, axis=1)\n",
        "\n",
        "print_confusion_matrix(y_test, y_pred)"
      ]
    },
    {
      "cell_type": "markdown",
      "metadata": {
        "id": "FNP6aqzc9hE5"
      },
      "source": [
        "# Convert to model for Tensorflow-Lite"
      ]
    },
    {
      "cell_type": "code",
      "execution_count": 28,
      "metadata": {
        "id": "ODjnYyld9hE6"
      },
      "outputs": [],
      "source": [
        "# Save as a model dedicated to inference\n",
        "model.save(model_save_path)"
      ]
    },
    {
      "cell_type": "code",
      "execution_count": 29,
      "metadata": {
        "colab": {
          "base_uri": "https://localhost:8080/"
        },
        "id": "zRfuK8Y59hE6",
        "outputId": "a4ca585c-b5d5-4244-8291-8674063209bb"
      },
      "outputs": [
        {
          "name": "stdout",
          "output_type": "stream",
          "text": [
            "INFO:tensorflow:Assets written to: C:\\Users\\MONSTER\\AppData\\Local\\Temp\\tmp26u4nz8r\\assets\n"
          ]
        },
        {
          "data": {
            "text/plain": [
              "9644"
            ]
          },
          "execution_count": 29,
          "metadata": {},
          "output_type": "execute_result"
        }
      ],
      "source": [
        "# Transform model (quantization)\n",
        "\n",
        "converter = tf.lite.TFLiteConverter.from_keras_model(model)\n",
        "converter.optimizations = [tf.lite.Optimize.DEFAULT]\n",
        "tflite_quantized_model = converter.convert()\n",
        "\n",
        "open(tflite_save_path, 'wb').write(tflite_quantized_model)"
      ]
    },
    {
      "cell_type": "markdown",
      "metadata": {
        "id": "CHBPBXdx9hE6"
      },
      "source": [
        "# Inference test"
      ]
    },
    {
      "cell_type": "code",
      "execution_count": 39,
      "metadata": {
        "id": "mGAzLocO9hE7"
      },
      "outputs": [],
      "source": [
        "interpreter = tf.lite.Interpreter(model_path=tflite_save_path)\n",
        "interpreter.allocate_tensors()"
      ]
    },
    {
      "cell_type": "code",
      "execution_count": 40,
      "metadata": {
        "id": "oQuDK8YS9hE7"
      },
      "outputs": [],
      "source": [
        "# Get I / O tensor\n",
        "input_details = interpreter.get_input_details()\n",
        "output_details = interpreter.get_output_details()"
      ]
    },
    {
      "cell_type": "code",
      "execution_count": 41,
      "metadata": {
        "id": "2_ixAf_l9hE7"
      },
      "outputs": [],
      "source": [
        "interpreter.set_tensor(input_details[0]['index'], np.array([X_test[0]]))"
      ]
    },
    {
      "cell_type": "code",
      "execution_count": 42,
      "metadata": {
        "colab": {
          "base_uri": "https://localhost:8080/"
        },
        "id": "s4FoAnuc9hE7",
        "outputId": "91f18257-8d8b-4ef3-c558-e9b5f94fabbf",
        "scrolled": true
      },
      "outputs": [
        {
          "name": "stdout",
          "output_type": "stream",
          "text": [
            "CPU times: total: 0 ns\n",
            "Wall time: 0 ns\n"
          ]
        }
      ],
      "source": [
        "%%time\n",
        "# Inference implementation\n",
        "interpreter.invoke()\n",
        "tflite_results = interpreter.get_tensor(output_details[0]['index'])"
      ]
    },
    {
      "cell_type": "code",
      "execution_count": 43,
      "metadata": {
        "colab": {
          "base_uri": "https://localhost:8080/"
        },
        "id": "vONjp19J9hE8",
        "outputId": "77205e24-fd00-42c4-f7b6-e06e527c2cba"
      },
      "outputs": [
        {
          "name": "stdout",
          "output_type": "stream",
          "text": [
            "[7.4675675e-23 9.9627161e-01 1.2845918e-05 2.3025861e-12 1.7324088e-10\n",
            " 5.0330224e-09 8.6269765e-09 3.5557111e-09 5.1004956e-09 9.4686534e-08\n",
            " 6.0158731e-09 6.8088007e-11 6.8929273e-07 3.3931585e-03 8.4184471e-08\n",
            " 3.2145905e-04]\n",
            "1\n"
          ]
        }
      ],
      "source": [
        "print(np.squeeze(tflite_results))\n",
        "print(np.argmax(np.squeeze(tflite_results)))"
      ]
    },
    {
      "cell_type": "code",
      "execution_count": null,
      "metadata": {},
      "outputs": [],
      "source": []
    },
    {
      "cell_type": "code",
      "execution_count": 44,
      "metadata": {},
      "outputs": [],
      "source": [
        "import time"
      ]
    },
    {
      "cell_type": "code",
      "execution_count": 45,
      "metadata": {},
      "outputs": [],
      "source": [
        "nofsample = 50"
      ]
    },
    {
      "cell_type": "code",
      "execution_count": 46,
      "metadata": {},
      "outputs": [
        {
          "name": "stdout",
          "output_type": "stream",
          "text": [
            "Inference time: 0.0 seconds\n"
          ]
        }
      ],
      "source": [
        "for i in range(0,nofsample):\n",
        "    start_time = time.time()\n",
        "    interpreter.set_tensor(input_details[0][\"index\"], np.array([X_test[i]]))\n",
        "    interpreter.invoke()\n",
        "    output_data = interpreter.get_tensor(output_details[0][\"index\"])\n",
        "    end_time = time.time()\n",
        "\n",
        "inference_time = (end_time - start_time)/nofsample\n",
        "print(\"Inference time:\", inference_time, \"seconds\")"
      ]
    },
    {
      "cell_type": "markdown",
      "metadata": {},
      "source": [
        "# Real Time Test"
      ]
    },
    {
      "cell_type": "code",
      "execution_count": 65,
      "metadata": {},
      "outputs": [],
      "source": [
        "import csv\n",
        "import copy\n",
        "import argparse\n",
        "import numpy as np\n",
        "\n",
        "import cv2\n",
        "import mediapipe as mp\n",
        "import tensorflow as tf\n",
        "from utils.helper_func import HelperFunc"
      ]
    },
    {
      "cell_type": "code",
      "execution_count": 67,
      "metadata": {},
      "outputs": [],
      "source": [
        "model = tf.keras.models.load_model('model/hand_detection/hand_detection_model.keras')"
      ]
    },
    {
      "cell_type": "code",
      "execution_count": 68,
      "metadata": {},
      "outputs": [],
      "source": [
        "min_detection_confidence = 0.7\n",
        "min_tracking_confidence = 0.7"
      ]
    },
    {
      "cell_type": "code",
      "execution_count": 69,
      "metadata": {},
      "outputs": [],
      "source": [
        "with open('model/hand_detection/hand_gesture_labels.csv',\n",
        "              encoding='utf-8-sig') as f:\n",
        "        hand_gesture_labels = csv.reader(f)\n",
        "        hand_gesture_labels = [\n",
        "            row[0] for row in hand_gesture_labels\n",
        "        ]"
      ]
    },
    {
      "cell_type": "code",
      "execution_count": 70,
      "metadata": {},
      "outputs": [
        {
          "data": {
            "text/plain": [
              "['UP',\n",
              " 'DOWN',\n",
              " 'RIGHT',\n",
              " 'LEFT',\n",
              " 'FURTHER',\n",
              " 'CLOSER',\n",
              " 'LANDING',\n",
              " 'TAKE_OFF',\n",
              " 'PHOTO',\n",
              " 'VIDEO',\n",
              " 'VIDEO_STOP',\n",
              " 'EMERGENCY',\n",
              " 'FOLLOW',\n",
              " 'PALM',\n",
              " 'NO_CLASS']"
            ]
          },
          "execution_count": 70,
          "metadata": {},
          "output_type": "execute_result"
        }
      ],
      "source": [
        "hand_gesture_labels"
      ]
    },
    {
      "cell_type": "code",
      "execution_count": null,
      "metadata": {},
      "outputs": [],
      "source": [
        "functions = HelperFunc()\n",
        "\n",
        "device = 0\n",
        "cap = cv2.VideoCapture(device)\n",
        "\n",
        "use_pose = False\n",
        "\n",
        "mp_hands = mp.solutions.hands\n",
        "mp_drawing = mp.solutions.drawing_utils\n",
        "\n",
        "with mp_hands.Hands(\n",
        "    max_num_hands=1,\n",
        "    min_detection_confidence=min_detection_confidence,\n",
        "    min_tracking_confidence=min_tracking_confidence) as hands:\n",
        "\n",
        "    while cap.isOpened():\n",
        "\n",
        "        ret,frame = cap.read()\n",
        "\n",
        "        if not ret:\n",
        "            print('Ignoring empty camera frame.')\n",
        "            break\n",
        "\n",
        "        rgb_frame = cv2.cvtColor(frame, cv2.COLOR_BGR2RGB)\n",
        "\n",
        "        results = hands.process(rgb_frame)\n",
        "\n",
        "        if results.multi_hand_landmarks:\n",
        "                for hand_landmarks in results.multi_hand_landmarks:\n",
        "                    hand_label = results.multi_handedness[0].classification[0].label\n",
        "                    if hand_label == 'Left': \n",
        "                        # Landmark list calculation\n",
        "                        landmark_list = functions.calc_landmark_list(rgb_frame, hand_landmarks,use_pose)\n",
        "                        # Preprocessing landmark list\n",
        "                        pre_processed_landmark_list = functions.pre_process_landmark(landmark_list)\n",
        "\n",
        "                        # Inference test\n",
        "                        predict_result = model.predict(np.array([pre_processed_landmark_list]),verbose=0)\n",
        "                        hand_sign_id = np.argmax(np.squeeze(predict_result))\n",
        "                        accuracy = np.max(predict_result)\n",
        "                        accuracy = round(accuracy, 2)\n",
        "\n",
        "                        # Bounding box calculation\n",
        "                        brect = functions.calc_bounding_rect(rgb_frame, hand_landmarks)\n",
        "                        # Drawing the bounding box on the frame\n",
        "                        frame = functions.rect_corners(frame, brect)\n",
        "\n",
        "                         # Draw the pose annotation on the image.\n",
        "                        frame.flags.writeable = True\n",
        "                \n",
        "                        # Drawing the hand landmarks on the frame\n",
        "                        mp_drawing.draw_landmarks(\n",
        "                            frame, \n",
        "                            hand_landmarks, \n",
        "                            mp_hands.HAND_CONNECTIONS,\n",
        "                            mp_drawing.DrawingSpec(color=(121,22,76), thickness=2, circle_radius=3),\n",
        "                            mp_drawing.DrawingSpec(color=(121,44,250), thickness=2))\n",
        "\n",
        "                        info_text = hand_gesture_labels[hand_sign_id-1] +' '+str(accuracy)\n",
        "                        frame = functions.text_with_background(\n",
        "                        frame,\n",
        "                        info_text,\n",
        "                        (brect[0],brect[1]),\n",
        "                        )                  \n",
        "\n",
        "        # Display the frame\n",
        "        cv2.imshow('Hand Detection', frame)\n",
        "\n",
        "        # Break the loop if 'q' key is pressed\n",
        "        if cv2.waitKey(1) & 0xFF == ord('q'):\n",
        "            break\n",
        "cap.release()\n",
        "cv2.destroyAllWindows()\n"
      ]
    }
  ],
  "metadata": {
    "accelerator": "GPU",
    "colab": {
      "collapsed_sections": [],
      "name": "keypoint_classification_EN.ipynb",
      "provenance": [],
      "toc_visible": true
    },
    "kernelspec": {
      "display_name": "Python 3",
      "language": "python",
      "name": "python3"
    },
    "language_info": {
      "codemirror_mode": {
        "name": "ipython",
        "version": 3
      },
      "file_extension": ".py",
      "mimetype": "text/x-python",
      "name": "python",
      "nbconvert_exporter": "python",
      "pygments_lexer": "ipython3",
      "version": "3.10.6"
    }
  },
  "nbformat": 4,
  "nbformat_minor": 0
}
