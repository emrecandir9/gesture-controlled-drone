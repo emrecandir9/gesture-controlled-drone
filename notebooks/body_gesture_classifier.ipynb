{
 "cells": [
  {
   "cell_type": "code",
   "execution_count": 2,
   "metadata": {},
   "outputs": [],
   "source": [
    "import numpy as np\n",
    "import tensorflow as tf\n",
    "from sklearn.model_selection import train_test_split\n",
    "\n",
    "RANDOM_SEED = 42"
   ]
  },
  {
   "cell_type": "markdown",
   "metadata": {},
   "source": [
    "# Specify each path"
   ]
  },
  {
   "cell_type": "code",
   "execution_count": 3,
   "metadata": {},
   "outputs": [],
   "source": [
    "dataset = 'model/body_detection/body_keypoints.csv'\n",
    "model_save_path = 'model/body_detection/body_detection_model.keras'\n",
    "tflite_save_path = 'model/body_detection/body_detection_model.tflite'"
   ]
  },
  {
   "cell_type": "markdown",
   "metadata": {},
   "source": [
    "# Set number of classes"
   ]
  },
  {
   "cell_type": "code",
   "execution_count": 4,
   "metadata": {},
   "outputs": [],
   "source": [
    "NUM_CLASSES = 16"
   ]
  },
  {
   "cell_type": "markdown",
   "metadata": {},
   "source": [
    "# Dataset reading"
   ]
  },
  {
   "cell_type": "code",
   "execution_count": 5,
   "metadata": {},
   "outputs": [],
   "source": [
    "X_dataset = np.loadtxt(dataset, delimiter=',', dtype='float32', usecols=list(range(1, (6 * 2) + 1)))"
   ]
  },
  {
   "cell_type": "code",
   "execution_count": 6,
   "metadata": {},
   "outputs": [],
   "source": [
    "y_dataset = np.loadtxt(dataset, delimiter=',', dtype='int32', usecols=(0))"
   ]
  },
  {
   "cell_type": "code",
   "execution_count": 7,
   "metadata": {},
   "outputs": [],
   "source": [
    "X_train, X_test, y_train, y_test = train_test_split(X_dataset, y_dataset, train_size=0.8, random_state=RANDOM_SEED, shuffle=True)"
   ]
  },
  {
   "cell_type": "markdown",
   "metadata": {},
   "source": [
    "# Model building"
   ]
  },
  {
   "cell_type": "code",
   "execution_count": 8,
   "metadata": {},
   "outputs": [],
   "source": [
    "model = tf.keras.models.Sequential([\n",
    "    #input\n",
    "    tf.keras.layers.Input((6 * 2, ),name='gesture_recognizer_input'),\n",
    "\n",
    "    #hidden layer\n",
    "    tf.keras.layers.BatchNormalization(),\n",
    "    tf.keras.layers.Dropout(0.2),\n",
    "    tf.keras.layers.Dense(24, activation='relu'),\n",
    "\n",
    "    tf.keras.layers.BatchNormalization(),\n",
    "    tf.keras.layers.Dropout(0.2),\n",
    "    tf.keras.layers.Dense(16, activation='relu'),\n",
    "\n",
    "    #output\n",
    "    tf.keras.layers.Dense(NUM_CLASSES, activation='softmax', name='gesture_recognizer_out')\n",
    "])"
   ]
  },
  {
   "cell_type": "code",
   "execution_count": 9,
   "metadata": {},
   "outputs": [
    {
     "name": "stdout",
     "output_type": "stream",
     "text": [
      "Model: \"sequential\"\n",
      "_________________________________________________________________\n",
      " Layer (type)                Output Shape              Param #   \n",
      "=================================================================\n",
      " batch_normalization (BatchN  (None, 12)               48        \n",
      " ormalization)                                                   \n",
      "                                                                 \n",
      " dropout (Dropout)           (None, 12)                0         \n",
      "                                                                 \n",
      " dense (Dense)               (None, 24)                312       \n",
      "                                                                 \n",
      " batch_normalization_1 (Batc  (None, 24)               96        \n",
      " hNormalization)                                                 \n",
      "                                                                 \n",
      " dropout_1 (Dropout)         (None, 24)                0         \n",
      "                                                                 \n",
      " dense_1 (Dense)             (None, 16)                400       \n",
      "                                                                 \n",
      " gesture_recognizer_out (Den  (None, 16)               272       \n",
      " se)                                                             \n",
      "                                                                 \n",
      "=================================================================\n",
      "Total params: 1,128\n",
      "Trainable params: 1,056\n",
      "Non-trainable params: 72\n",
      "_________________________________________________________________\n"
     ]
    }
   ],
   "source": [
    "model.summary()  \n",
    "#tf.keras.utils.plot_model(model, show_shapes=True)"
   ]
  },
  {
   "cell_type": "code",
   "execution_count": 10,
   "metadata": {},
   "outputs": [],
   "source": [
    "# Model checkpoint callback\n",
    "cp_callback = tf.keras.callbacks.ModelCheckpoint(\n",
    "    model_save_path, verbose=1, save_weights_only=False)\n",
    "# Callback for early stopping\n",
    "es_callback = tf.keras.callbacks.EarlyStopping(patience=20, verbose=1)"
   ]
  },
  {
   "cell_type": "code",
   "execution_count": 11,
   "metadata": {},
   "outputs": [],
   "source": [
    "# Model compilation\n",
    "model.compile(\n",
    "    optimizer='adam',\n",
    "    loss='sparse_categorical_crossentropy',\n",
    "    metrics=['accuracy']\n",
    ")"
   ]
  },
  {
   "cell_type": "markdown",
   "metadata": {},
   "source": [
    "# Model training"
   ]
  },
  {
   "cell_type": "code",
   "execution_count": 12,
   "metadata": {},
   "outputs": [
    {
     "name": "stdout",
     "output_type": "stream",
     "text": [
      "Epoch 1/75\n",
      " 1/31 [..............................] - ETA: 17s - loss: 2.8418 - accuracy: 0.0547\n",
      "Epoch 1: saving model to model/body_detection\\body_detection_model.keras\n",
      "31/31 [==============================] - 1s 9ms/step - loss: 2.5868 - accuracy: 0.1561 - val_loss: 2.7151 - val_accuracy: 0.1165\n",
      "Epoch 2/75\n",
      " 1/31 [..............................] - ETA: 0s - loss: 2.2710 - accuracy: 0.2656\n",
      "Epoch 2: saving model to model/body_detection\\body_detection_model.keras\n",
      "31/31 [==============================] - 0s 4ms/step - loss: 2.1796 - accuracy: 0.3241 - val_loss: 2.5277 - val_accuracy: 0.2604\n",
      "Epoch 3/75\n",
      "25/31 [=======================>......] - ETA: 0s - loss: 1.8876 - accuracy: 0.4484\n",
      "Epoch 3: saving model to model/body_detection\\body_detection_model.keras\n",
      "31/31 [==============================] - 0s 4ms/step - loss: 1.8642 - accuracy: 0.4549 - val_loss: 2.3071 - val_accuracy: 0.4529\n",
      "Epoch 4/75\n",
      "23/31 [=====================>........] - ETA: 0s - loss: 1.6243 - accuracy: 0.5435\n",
      "Epoch 4: saving model to model/body_detection\\body_detection_model.keras\n",
      "31/31 [==============================] - 0s 5ms/step - loss: 1.5930 - accuracy: 0.5532 - val_loss: 2.0517 - val_accuracy: 0.4883\n",
      "Epoch 5/75\n",
      "23/31 [=====================>........] - ETA: 0s - loss: 1.3625 - accuracy: 0.6355\n",
      "Epoch 5: saving model to model/body_detection\\body_detection_model.keras\n",
      "31/31 [==============================] - 0s 5ms/step - loss: 1.3414 - accuracy: 0.6366 - val_loss: 1.7450 - val_accuracy: 0.5957\n",
      "Epoch 6/75\n",
      "25/31 [=======================>......] - ETA: 0s - loss: 1.1691 - accuracy: 0.6631\n",
      "Epoch 6: saving model to model/body_detection\\body_detection_model.keras\n",
      "31/31 [==============================] - 0s 4ms/step - loss: 1.1548 - accuracy: 0.6652 - val_loss: 1.4177 - val_accuracy: 0.7538\n",
      "Epoch 7/75\n",
      "25/31 [=======================>......] - ETA: 0s - loss: 0.9976 - accuracy: 0.6991\n",
      "Epoch 7: saving model to model/body_detection\\body_detection_model.keras\n",
      "31/31 [==============================] - 0s 4ms/step - loss: 0.9970 - accuracy: 0.7007 - val_loss: 1.1230 - val_accuracy: 0.8278\n",
      "Epoch 8/75\n",
      "23/31 [=====================>........] - ETA: 0s - loss: 0.9021 - accuracy: 0.7388\n",
      "Epoch 8: saving model to model/body_detection\\body_detection_model.keras\n",
      "31/31 [==============================] - 0s 4ms/step - loss: 0.8963 - accuracy: 0.7387 - val_loss: 0.8895 - val_accuracy: 0.8450\n",
      "Epoch 9/75\n",
      "25/31 [=======================>......] - ETA: 0s - loss: 0.8088 - accuracy: 0.7606\n",
      "Epoch 9: saving model to model/body_detection\\body_detection_model.keras\n",
      "31/31 [==============================] - 0s 4ms/step - loss: 0.8040 - accuracy: 0.7592 - val_loss: 0.7130 - val_accuracy: 0.8541\n",
      "Epoch 10/75\n",
      "21/31 [===================>..........] - ETA: 0s - loss: 0.7538 - accuracy: 0.7682\n",
      "Epoch 10: saving model to model/body_detection\\body_detection_model.keras\n",
      "31/31 [==============================] - 0s 5ms/step - loss: 0.7427 - accuracy: 0.7717 - val_loss: 0.5807 - val_accuracy: 0.8652\n",
      "Epoch 11/75\n",
      "20/31 [==================>...........] - ETA: 0s - loss: 0.7392 - accuracy: 0.7570\n",
      "Epoch 11: saving model to model/body_detection\\body_detection_model.keras\n",
      "31/31 [==============================] - 0s 4ms/step - loss: 0.7274 - accuracy: 0.7620 - val_loss: 0.4943 - val_accuracy: 0.8723\n",
      "Epoch 12/75\n",
      "31/31 [==============================] - ETA: 0s - loss: 0.6746 - accuracy: 0.7755\n",
      "Epoch 12: saving model to model/body_detection\\body_detection_model.keras\n",
      "31/31 [==============================] - 0s 4ms/step - loss: 0.6746 - accuracy: 0.7755 - val_loss: 0.4164 - val_accuracy: 0.9078\n",
      "Epoch 13/75\n",
      "29/31 [===========================>..] - ETA: 0s - loss: 0.6391 - accuracy: 0.7953\n",
      "Epoch 13: saving model to model/body_detection\\body_detection_model.keras\n",
      "31/31 [==============================] - 0s 4ms/step - loss: 0.6366 - accuracy: 0.7975 - val_loss: 0.3754 - val_accuracy: 0.8926\n",
      "Epoch 14/75\n",
      "25/31 [=======================>......] - ETA: 0s - loss: 0.6076 - accuracy: 0.8081\n",
      "Epoch 14: saving model to model/body_detection\\body_detection_model.keras\n",
      "31/31 [==============================] - 0s 4ms/step - loss: 0.6098 - accuracy: 0.8049 - val_loss: 0.3346 - val_accuracy: 0.9068\n",
      "Epoch 15/75\n",
      "27/31 [=========================>....] - ETA: 0s - loss: 0.6118 - accuracy: 0.8093\n",
      "Epoch 15: saving model to model/body_detection\\body_detection_model.keras\n",
      "31/31 [==============================] - 0s 4ms/step - loss: 0.6011 - accuracy: 0.8107 - val_loss: 0.3047 - val_accuracy: 0.9260\n",
      "Epoch 16/75\n",
      "29/31 [===========================>..] - ETA: 0s - loss: 0.5676 - accuracy: 0.8149\n",
      "Epoch 16: saving model to model/body_detection\\body_detection_model.keras\n",
      "31/31 [==============================] - 0s 4ms/step - loss: 0.5670 - accuracy: 0.8137 - val_loss: 0.2825 - val_accuracy: 0.9250\n",
      "Epoch 17/75\n",
      "31/31 [==============================] - ETA: 0s - loss: 0.5449 - accuracy: 0.8267\n",
      "Epoch 17: saving model to model/body_detection\\body_detection_model.keras\n",
      "31/31 [==============================] - 0s 4ms/step - loss: 0.5449 - accuracy: 0.8267 - val_loss: 0.2537 - val_accuracy: 0.9331\n",
      "Epoch 18/75\n",
      "27/31 [=========================>....] - ETA: 0s - loss: 0.5355 - accuracy: 0.8241\n",
      "Epoch 18: saving model to model/body_detection\\body_detection_model.keras\n",
      "31/31 [==============================] - 0s 4ms/step - loss: 0.5367 - accuracy: 0.8246 - val_loss: 0.2411 - val_accuracy: 0.9331\n",
      "Epoch 19/75\n",
      "21/31 [===================>..........] - ETA: 0s - loss: 0.5097 - accuracy: 0.8359\n",
      "Epoch 19: saving model to model/body_detection\\body_detection_model.keras\n",
      "31/31 [==============================] - 0s 4ms/step - loss: 0.5107 - accuracy: 0.8325 - val_loss: 0.2305 - val_accuracy: 0.9352\n",
      "Epoch 20/75\n",
      "26/31 [========================>.....] - ETA: 0s - loss: 0.4912 - accuracy: 0.8447\n",
      "Epoch 20: saving model to model/body_detection\\body_detection_model.keras\n",
      "31/31 [==============================] - 0s 4ms/step - loss: 0.4854 - accuracy: 0.8469 - val_loss: 0.2148 - val_accuracy: 0.9392\n",
      "Epoch 21/75\n",
      "27/31 [=========================>....] - ETA: 0s - loss: 0.4917 - accuracy: 0.8371\n",
      "Epoch 21: saving model to model/body_detection\\body_detection_model.keras\n",
      "31/31 [==============================] - 0s 4ms/step - loss: 0.4987 - accuracy: 0.8335 - val_loss: 0.2102 - val_accuracy: 0.9382\n",
      "Epoch 22/75\n",
      " 1/31 [..............................] - ETA: 0s - loss: 0.3626 - accuracy: 0.8594\n",
      "Epoch 22: saving model to model/body_detection\\body_detection_model.keras\n",
      "31/31 [==============================] - 0s 3ms/step - loss: 0.4855 - accuracy: 0.8360 - val_loss: 0.2006 - val_accuracy: 0.9402\n",
      "Epoch 23/75\n",
      "28/31 [==========================>...] - ETA: 0s - loss: 0.4653 - accuracy: 0.8518\n",
      "Epoch 23: saving model to model/body_detection\\body_detection_model.keras\n",
      "31/31 [==============================] - 0s 4ms/step - loss: 0.4633 - accuracy: 0.8535 - val_loss: 0.1929 - val_accuracy: 0.9412\n",
      "Epoch 24/75\n",
      "29/31 [===========================>..] - ETA: 0s - loss: 0.4521 - accuracy: 0.8483\n",
      "Epoch 24: saving model to model/body_detection\\body_detection_model.keras\n",
      "31/31 [==============================] - 0s 4ms/step - loss: 0.4530 - accuracy: 0.8487 - val_loss: 0.1918 - val_accuracy: 0.9443\n",
      "Epoch 25/75\n",
      "23/31 [=====================>........] - ETA: 0s - loss: 0.4555 - accuracy: 0.8441\n",
      "Epoch 25: saving model to model/body_detection\\body_detection_model.keras\n",
      "31/31 [==============================] - 0s 4ms/step - loss: 0.4679 - accuracy: 0.8396 - val_loss: 0.1900 - val_accuracy: 0.9422\n",
      "Epoch 26/75\n",
      "23/31 [=====================>........] - ETA: 0s - loss: 0.4341 - accuracy: 0.8563\n",
      "Epoch 26: saving model to model/body_detection\\body_detection_model.keras\n",
      "31/31 [==============================] - 0s 4ms/step - loss: 0.4444 - accuracy: 0.8530 - val_loss: 0.1798 - val_accuracy: 0.9493\n",
      "Epoch 27/75\n",
      "30/31 [============================>.] - ETA: 0s - loss: 0.4566 - accuracy: 0.8477\n",
      "Epoch 27: saving model to model/body_detection\\body_detection_model.keras\n",
      "31/31 [==============================] - 0s 4ms/step - loss: 0.4594 - accuracy: 0.8469 - val_loss: 0.1784 - val_accuracy: 0.9473\n",
      "Epoch 28/75\n",
      "30/31 [============================>.] - ETA: 0s - loss: 0.4172 - accuracy: 0.8615\n",
      "Epoch 28: saving model to model/body_detection\\body_detection_model.keras\n",
      "31/31 [==============================] - 0s 4ms/step - loss: 0.4170 - accuracy: 0.8614 - val_loss: 0.1712 - val_accuracy: 0.9483\n",
      "Epoch 29/75\n",
      " 1/31 [..............................] - ETA: 0s - loss: 0.4590 - accuracy: 0.8203\n",
      "Epoch 29: saving model to model/body_detection\\body_detection_model.keras\n",
      "31/31 [==============================] - 0s 3ms/step - loss: 0.4232 - accuracy: 0.8626 - val_loss: 0.1726 - val_accuracy: 0.9493\n",
      "Epoch 30/75\n",
      "28/31 [==========================>...] - ETA: 0s - loss: 0.4291 - accuracy: 0.8652\n",
      "Epoch 30: saving model to model/body_detection\\body_detection_model.keras\n",
      "31/31 [==============================] - 0s 4ms/step - loss: 0.4227 - accuracy: 0.8652 - val_loss: 0.1621 - val_accuracy: 0.9504\n",
      "Epoch 31/75\n",
      "26/31 [========================>.....] - ETA: 0s - loss: 0.4366 - accuracy: 0.8630\n",
      "Epoch 31: saving model to model/body_detection\\body_detection_model.keras\n",
      "31/31 [==============================] - 0s 4ms/step - loss: 0.4435 - accuracy: 0.8596 - val_loss: 0.1617 - val_accuracy: 0.9524\n",
      "Epoch 32/75\n",
      "22/31 [====================>.........] - ETA: 0s - loss: 0.4213 - accuracy: 0.8675\n",
      "Epoch 32: saving model to model/body_detection\\body_detection_model.keras\n",
      "31/31 [==============================] - 0s 4ms/step - loss: 0.4147 - accuracy: 0.8687 - val_loss: 0.1626 - val_accuracy: 0.9514\n",
      "Epoch 33/75\n",
      "31/31 [==============================] - ETA: 0s - loss: 0.4024 - accuracy: 0.8720\n",
      "Epoch 33: saving model to model/body_detection\\body_detection_model.keras\n",
      "31/31 [==============================] - 0s 4ms/step - loss: 0.4024 - accuracy: 0.8720 - val_loss: 0.1552 - val_accuracy: 0.9534\n",
      "Epoch 34/75\n",
      " 1/31 [..............................] - ETA: 0s - loss: 0.4173 - accuracy: 0.8828\n",
      "Epoch 34: saving model to model/body_detection\\body_detection_model.keras\n",
      "31/31 [==============================] - 0s 3ms/step - loss: 0.4110 - accuracy: 0.8662 - val_loss: 0.1517 - val_accuracy: 0.9534\n",
      "Epoch 35/75\n",
      "30/31 [============================>.] - ETA: 0s - loss: 0.4209 - accuracy: 0.8583\n",
      "Epoch 35: saving model to model/body_detection\\body_detection_model.keras\n",
      "31/31 [==============================] - 0s 4ms/step - loss: 0.4235 - accuracy: 0.8571 - val_loss: 0.1515 - val_accuracy: 0.9534\n",
      "Epoch 36/75\n",
      "28/31 [==========================>...] - ETA: 0s - loss: 0.3812 - accuracy: 0.8800\n",
      "Epoch 36: saving model to model/body_detection\\body_detection_model.keras\n",
      "31/31 [==============================] - 0s 4ms/step - loss: 0.3897 - accuracy: 0.8794 - val_loss: 0.1490 - val_accuracy: 0.9595\n",
      "Epoch 37/75\n",
      "22/31 [====================>.........] - ETA: 0s - loss: 0.3979 - accuracy: 0.8661\n",
      "Epoch 37: saving model to model/body_detection\\body_detection_model.keras\n",
      "31/31 [==============================] - 0s 5ms/step - loss: 0.4035 - accuracy: 0.8657 - val_loss: 0.1520 - val_accuracy: 0.9554\n",
      "Epoch 38/75\n",
      "22/31 [====================>.........] - ETA: 0s - loss: 0.4062 - accuracy: 0.8711\n",
      "Epoch 38: saving model to model/body_detection\\body_detection_model.keras\n",
      "31/31 [==============================] - 0s 4ms/step - loss: 0.3934 - accuracy: 0.8713 - val_loss: 0.1520 - val_accuracy: 0.9544\n",
      "Epoch 39/75\n",
      "30/31 [============================>.] - ETA: 0s - loss: 0.3921 - accuracy: 0.8716\n",
      "Epoch 39: saving model to model/body_detection\\body_detection_model.keras\n",
      "31/31 [==============================] - 0s 4ms/step - loss: 0.3921 - accuracy: 0.8723 - val_loss: 0.1459 - val_accuracy: 0.9574\n",
      "Epoch 40/75\n",
      "31/31 [==============================] - ETA: 0s - loss: 0.3895 - accuracy: 0.8670\n",
      "Epoch 40: saving model to model/body_detection\\body_detection_model.keras\n",
      "31/31 [==============================] - 0s 4ms/step - loss: 0.3895 - accuracy: 0.8670 - val_loss: 0.1444 - val_accuracy: 0.9564\n",
      "Epoch 41/75\n",
      "29/31 [===========================>..] - ETA: 0s - loss: 0.3950 - accuracy: 0.8745\n",
      "Epoch 41: saving model to model/body_detection\\body_detection_model.keras\n",
      "31/31 [==============================] - 0s 4ms/step - loss: 0.4000 - accuracy: 0.8725 - val_loss: 0.1362 - val_accuracy: 0.9605\n",
      "Epoch 42/75\n",
      "23/31 [=====================>........] - ETA: 0s - loss: 0.3677 - accuracy: 0.8801\n",
      "Epoch 42: saving model to model/body_detection\\body_detection_model.keras\n",
      "31/31 [==============================] - 0s 4ms/step - loss: 0.3798 - accuracy: 0.8756 - val_loss: 0.1438 - val_accuracy: 0.9595\n",
      "Epoch 43/75\n",
      "25/31 [=======================>......] - ETA: 0s - loss: 0.3748 - accuracy: 0.8797\n",
      "Epoch 43: saving model to model/body_detection\\body_detection_model.keras\n",
      "31/31 [==============================] - 0s 4ms/step - loss: 0.3725 - accuracy: 0.8806 - val_loss: 0.1427 - val_accuracy: 0.9635\n",
      "Epoch 44/75\n",
      "31/31 [==============================] - ETA: 0s - loss: 0.3679 - accuracy: 0.8809\n",
      "Epoch 44: saving model to model/body_detection\\body_detection_model.keras\n",
      "31/31 [==============================] - 0s 4ms/step - loss: 0.3679 - accuracy: 0.8809 - val_loss: 0.1419 - val_accuracy: 0.9544\n",
      "Epoch 45/75\n",
      "31/31 [==============================] - ETA: 0s - loss: 0.3776 - accuracy: 0.8753\n",
      "Epoch 45: saving model to model/body_detection\\body_detection_model.keras\n",
      "31/31 [==============================] - 0s 4ms/step - loss: 0.3776 - accuracy: 0.8753 - val_loss: 0.1472 - val_accuracy: 0.9595\n",
      "Epoch 46/75\n",
      "26/31 [========================>.....] - ETA: 0s - loss: 0.3734 - accuracy: 0.8717\n",
      "Epoch 46: saving model to model/body_detection\\body_detection_model.keras\n",
      "31/31 [==============================] - 0s 4ms/step - loss: 0.3739 - accuracy: 0.8710 - val_loss: 0.1340 - val_accuracy: 0.9615\n",
      "Epoch 47/75\n",
      "27/31 [=========================>....] - ETA: 0s - loss: 0.3905 - accuracy: 0.8695\n",
      "Epoch 47: saving model to model/body_detection\\body_detection_model.keras\n",
      "31/31 [==============================] - 0s 4ms/step - loss: 0.3922 - accuracy: 0.8702 - val_loss: 0.1286 - val_accuracy: 0.9666\n",
      "Epoch 48/75\n",
      "30/31 [============================>.] - ETA: 0s - loss: 0.3696 - accuracy: 0.8786\n",
      "Epoch 48: saving model to model/body_detection\\body_detection_model.keras\n",
      "31/31 [==============================] - 0s 4ms/step - loss: 0.3737 - accuracy: 0.8773 - val_loss: 0.1312 - val_accuracy: 0.9625\n",
      "Epoch 49/75\n",
      "26/31 [========================>.....] - ETA: 0s - loss: 0.3920 - accuracy: 0.8723\n",
      "Epoch 49: saving model to model/body_detection\\body_detection_model.keras\n",
      "31/31 [==============================] - 0s 4ms/step - loss: 0.3854 - accuracy: 0.8692 - val_loss: 0.1307 - val_accuracy: 0.9645\n",
      "Epoch 50/75\n",
      "25/31 [=======================>......] - ETA: 0s - loss: 0.3681 - accuracy: 0.8791\n",
      "Epoch 50: saving model to model/body_detection\\body_detection_model.keras\n",
      "31/31 [==============================] - 0s 4ms/step - loss: 0.3670 - accuracy: 0.8794 - val_loss: 0.1329 - val_accuracy: 0.9625\n",
      "Epoch 51/75\n",
      "26/31 [========================>.....] - ETA: 0s - loss: 0.3640 - accuracy: 0.8741\n",
      "Epoch 51: saving model to model/body_detection\\body_detection_model.keras\n",
      "31/31 [==============================] - 0s 4ms/step - loss: 0.3634 - accuracy: 0.8746 - val_loss: 0.1360 - val_accuracy: 0.9615\n",
      "Epoch 52/75\n",
      "25/31 [=======================>......] - ETA: 0s - loss: 0.3699 - accuracy: 0.8775\n",
      "Epoch 52: saving model to model/body_detection\\body_detection_model.keras\n",
      "31/31 [==============================] - 0s 5ms/step - loss: 0.3683 - accuracy: 0.8801 - val_loss: 0.1325 - val_accuracy: 0.9605\n",
      "Epoch 53/75\n",
      "21/31 [===================>..........] - ETA: 0s - loss: 0.3562 - accuracy: 0.8828\n",
      "Epoch 53: saving model to model/body_detection\\body_detection_model.keras\n",
      "31/31 [==============================] - 0s 5ms/step - loss: 0.3612 - accuracy: 0.8822 - val_loss: 0.1301 - val_accuracy: 0.9615\n",
      "Epoch 54/75\n",
      "21/31 [===================>..........] - ETA: 0s - loss: 0.3502 - accuracy: 0.8839\n",
      "Epoch 54: saving model to model/body_detection\\body_detection_model.keras\n",
      "31/31 [==============================] - 0s 5ms/step - loss: 0.3494 - accuracy: 0.8852 - val_loss: 0.1258 - val_accuracy: 0.9635\n",
      "Epoch 55/75\n",
      " 1/31 [..............................] - ETA: 0s - loss: 0.3192 - accuracy: 0.9062\n",
      "Epoch 55: saving model to model/body_detection\\body_detection_model.keras\n",
      "31/31 [==============================] - 0s 3ms/step - loss: 0.3646 - accuracy: 0.8751 - val_loss: 0.1347 - val_accuracy: 0.9625\n",
      "Epoch 56/75\n",
      "29/31 [===========================>..] - ETA: 0s - loss: 0.3515 - accuracy: 0.8834\n",
      "Epoch 56: saving model to model/body_detection\\body_detection_model.keras\n",
      "31/31 [==============================] - 0s 4ms/step - loss: 0.3460 - accuracy: 0.8847 - val_loss: 0.1266 - val_accuracy: 0.9635\n",
      "Epoch 57/75\n",
      "20/31 [==================>...........] - ETA: 0s - loss: 0.3434 - accuracy: 0.8855\n",
      "Epoch 57: saving model to model/body_detection\\body_detection_model.keras\n",
      "31/31 [==============================] - 0s 5ms/step - loss: 0.3453 - accuracy: 0.8860 - val_loss: 0.1251 - val_accuracy: 0.9656\n",
      "Epoch 58/75\n",
      "22/31 [====================>.........] - ETA: 0s - loss: 0.3555 - accuracy: 0.8807\n",
      "Epoch 58: saving model to model/body_detection\\body_detection_model.keras\n",
      "31/31 [==============================] - 0s 5ms/step - loss: 0.3511 - accuracy: 0.8814 - val_loss: 0.1296 - val_accuracy: 0.9615\n",
      "Epoch 59/75\n",
      "27/31 [=========================>....] - ETA: 0s - loss: 0.3516 - accuracy: 0.8779\n",
      "Epoch 59: saving model to model/body_detection\\body_detection_model.keras\n",
      "31/31 [==============================] - 0s 4ms/step - loss: 0.3583 - accuracy: 0.8746 - val_loss: 0.1282 - val_accuracy: 0.9625\n",
      "Epoch 60/75\n",
      "24/31 [======================>.......] - ETA: 0s - loss: 0.3449 - accuracy: 0.8864\n",
      "Epoch 60: saving model to model/body_detection\\body_detection_model.keras\n",
      "31/31 [==============================] - 0s 4ms/step - loss: 0.3367 - accuracy: 0.8877 - val_loss: 0.1209 - val_accuracy: 0.9666\n",
      "Epoch 61/75\n",
      "27/31 [=========================>....] - ETA: 0s - loss: 0.3531 - accuracy: 0.8776\n",
      "Epoch 61: saving model to model/body_detection\\body_detection_model.keras\n",
      "31/31 [==============================] - 0s 4ms/step - loss: 0.3511 - accuracy: 0.8781 - val_loss: 0.1306 - val_accuracy: 0.9645\n",
      "Epoch 62/75\n",
      " 1/31 [..............................] - ETA: 0s - loss: 0.2107 - accuracy: 0.9297\n",
      "Epoch 62: saving model to model/body_detection\\body_detection_model.keras\n",
      "31/31 [==============================] - 0s 3ms/step - loss: 0.3560 - accuracy: 0.8796 - val_loss: 0.1227 - val_accuracy: 0.9666\n",
      "Epoch 63/75\n",
      " 1/31 [..............................] - ETA: 0s - loss: 0.3030 - accuracy: 0.9141\n",
      "Epoch 63: saving model to model/body_detection\\body_detection_model.keras\n",
      "31/31 [==============================] - 0s 3ms/step - loss: 0.3538 - accuracy: 0.8837 - val_loss: 0.1270 - val_accuracy: 0.9676\n",
      "Epoch 64/75\n",
      " 1/31 [..............................] - ETA: 0s - loss: 0.2993 - accuracy: 0.8594\n",
      "Epoch 64: saving model to model/body_detection\\body_detection_model.keras\n",
      "31/31 [==============================] - 0s 3ms/step - loss: 0.3469 - accuracy: 0.8796 - val_loss: 0.1247 - val_accuracy: 0.9676\n",
      "Epoch 65/75\n",
      " 1/31 [..............................] - ETA: 0s - loss: 0.3511 - accuracy: 0.8906\n",
      "Epoch 65: saving model to model/body_detection\\body_detection_model.keras\n",
      "31/31 [==============================] - 0s 3ms/step - loss: 0.3396 - accuracy: 0.8849 - val_loss: 0.1249 - val_accuracy: 0.9645\n",
      "Epoch 66/75\n",
      " 1/31 [..............................] - ETA: 0s - loss: 0.5606 - accuracy: 0.8125\n",
      "Epoch 66: saving model to model/body_detection\\body_detection_model.keras\n",
      "31/31 [==============================] - 0s 3ms/step - loss: 0.3645 - accuracy: 0.8738 - val_loss: 0.1249 - val_accuracy: 0.9666\n",
      "Epoch 67/75\n",
      " 1/31 [..............................] - ETA: 0s - loss: 0.3137 - accuracy: 0.9062\n",
      "Epoch 67: saving model to model/body_detection\\body_detection_model.keras\n",
      "31/31 [==============================] - 0s 3ms/step - loss: 0.3482 - accuracy: 0.8832 - val_loss: 0.1288 - val_accuracy: 0.9676\n",
      "Epoch 68/75\n",
      " 1/31 [..............................] - ETA: 0s - loss: 0.4851 - accuracy: 0.8438\n",
      "Epoch 68: saving model to model/body_detection\\body_detection_model.keras\n",
      "31/31 [==============================] - 0s 3ms/step - loss: 0.3404 - accuracy: 0.8880 - val_loss: 0.1219 - val_accuracy: 0.9676\n",
      "Epoch 69/75\n",
      "31/31 [==============================] - ETA: 0s - loss: 0.3402 - accuracy: 0.8847\n",
      "Epoch 69: saving model to model/body_detection\\body_detection_model.keras\n",
      "31/31 [==============================] - 0s 4ms/step - loss: 0.3402 - accuracy: 0.8847 - val_loss: 0.1260 - val_accuracy: 0.9635\n",
      "Epoch 70/75\n",
      "31/31 [==============================] - ETA: 0s - loss: 0.3394 - accuracy: 0.8855\n",
      "Epoch 70: saving model to model/body_detection\\body_detection_model.keras\n",
      "31/31 [==============================] - 0s 4ms/step - loss: 0.3394 - accuracy: 0.8855 - val_loss: 0.1211 - val_accuracy: 0.9686\n",
      "Epoch 71/75\n",
      " 1/31 [..............................] - ETA: 0s - loss: 0.3620 - accuracy: 0.8828\n",
      "Epoch 71: saving model to model/body_detection\\body_detection_model.keras\n",
      "31/31 [==============================] - 0s 3ms/step - loss: 0.3380 - accuracy: 0.8857 - val_loss: 0.1207 - val_accuracy: 0.9666\n",
      "Epoch 72/75\n",
      "29/31 [===========================>..] - ETA: 0s - loss: 0.3503 - accuracy: 0.8825\n",
      "Epoch 72: saving model to model/body_detection\\body_detection_model.keras\n",
      "31/31 [==============================] - 0s 4ms/step - loss: 0.3461 - accuracy: 0.8844 - val_loss: 0.1237 - val_accuracy: 0.9676\n",
      "Epoch 73/75\n",
      " 1/31 [..............................] - ETA: 0s - loss: 0.3521 - accuracy: 0.8594\n",
      "Epoch 73: saving model to model/body_detection\\body_detection_model.keras\n",
      "31/31 [==============================] - 0s 3ms/step - loss: 0.3287 - accuracy: 0.8928 - val_loss: 0.1218 - val_accuracy: 0.9686\n",
      "Epoch 74/75\n",
      " 1/31 [..............................] - ETA: 0s - loss: 0.4055 - accuracy: 0.8828\n",
      "Epoch 74: saving model to model/body_detection\\body_detection_model.keras\n",
      "31/31 [==============================] - 0s 3ms/step - loss: 0.3312 - accuracy: 0.8936 - val_loss: 0.1227 - val_accuracy: 0.9686\n",
      "Epoch 75/75\n",
      "31/31 [==============================] - ETA: 0s - loss: 0.3238 - accuracy: 0.8913\n",
      "Epoch 75: saving model to model/body_detection\\body_detection_model.keras\n",
      "31/31 [==============================] - 0s 4ms/step - loss: 0.3238 - accuracy: 0.8913 - val_loss: 0.1227 - val_accuracy: 0.9696\n"
     ]
    }
   ],
   "source": [
    "history = model.fit(\n",
    "    X_train,\n",
    "    y_train,\n",
    "    epochs=75,\n",
    "    batch_size=128,\n",
    "    validation_data=(X_test, y_test),\n",
    "    callbacks=[cp_callback, es_callback]\n",
    ")"
   ]
  },
  {
   "cell_type": "code",
   "execution_count": 13,
   "metadata": {},
   "outputs": [
    {
     "name": "stdout",
     "output_type": "stream",
     "text": [
      "acc 0.891282320022583\n",
      "val_acc 0.9696048498153687\n"
     ]
    }
   ],
   "source": [
    "print('acc' , history.history['accuracy'][-1])\n",
    "print('val_acc' ,history.history['val_accuracy'][-1])"
   ]
  },
  {
   "cell_type": "code",
   "execution_count": 14,
   "metadata": {},
   "outputs": [
    {
     "data": {
      "image/png": "[encoded data removed]",
      "text/plain": [
       "<Figure size 640x480 with 1 Axes>"
      ]
     },
     "metadata": {},
     "output_type": "display_data"
    }
   ],
   "source": [
    "import keras\n",
    "from matplotlib import pyplot as plt\n",
    "\n",
    "plt.plot(history.history['accuracy'])\n",
    "plt.plot(history.history['val_accuracy'])\n",
    "plt.title('model accuracy')\n",
    "plt.ylabel('accuracy')\n",
    "plt.xlabel('epoch')\n",
    "plt.legend(['train', 'val'], loc='upper left')\n",
    "plt.show()"
   ]
  },
  {
   "cell_type": "code",
   "execution_count": 15,
   "metadata": {},
   "outputs": [
    {
     "data": {
      "image/png": "[encoded data removed]",
      "text/plain": [
       "<Figure size 640x480 with 1 Axes>"
      ]
     },
     "metadata": {},
     "output_type": "display_data"
    }
   ],
   "source": [
    "plt.plot(history.history['loss'])\n",
    "plt.plot(history.history['val_loss'])\n",
    "plt.title('model loss')\n",
    "plt.ylabel('loss')\n",
    "plt.xlabel('epoch')\n",
    "plt.legend(['train', 'val'], loc='upper left')\n",
    "plt.show()"
   ]
  },
  {
   "cell_type": "code",
   "execution_count": 16,
   "metadata": {},
   "outputs": [
    {
     "name": "stdout",
     "output_type": "stream",
     "text": [
      "8/8 [==============================] - 0s 1ms/step - loss: 0.1227 - accuracy: 0.9696\n"
     ]
    }
   ],
   "source": [
    "# Model evaluation\n",
    "val_loss, val_acc = model.evaluate(X_test, y_test, batch_size=128)"
   ]
  },
  {
   "cell_type": "code",
   "execution_count": 17,
   "metadata": {},
   "outputs": [
    {
     "name": "stdout",
     "output_type": "stream",
     "text": [
      "1/1 [==============================] - 0s 95ms/step\n",
      "[3.9599243e-08 7.9797464e-06 2.2230583e-06 6.5805102e-07 1.8279850e-05\n",
      " 1.7123841e-05 1.1468457e-05 2.1541515e-05 2.9710639e-06 9.9879968e-01\n",
      " 4.5498477e-05 1.7129394e-05 1.2720450e-04 1.9740958e-06 7.0408213e-09\n",
      " 9.2622713e-04]\n",
      "9\n"
     ]
    }
   ],
   "source": [
    "# Inference test\n",
    "predict_result = model.predict(np.array([X_test[0]]))\n",
    "print(np.squeeze(predict_result))\n",
    "print(np.argmax(np.squeeze(predict_result)))"
   ]
  },
  {
   "cell_type": "code",
   "execution_count": 18,
   "metadata": {},
   "outputs": [
    {
     "data": {
      "text/plain": [
       "0.9987997"
      ]
     },
     "execution_count": 18,
     "metadata": {},
     "output_type": "execute_result"
    }
   ],
   "source": [
    "accuracy = np.max(predict_result)\n",
    "accuracy"
   ]
  },
  {
   "cell_type": "markdown",
   "metadata": {},
   "source": [
    "# Confusion matrix"
   ]
  },
  {
   "cell_type": "code",
   "execution_count": 19,
   "metadata": {},
   "outputs": [
    {
     "name": "stdout",
     "output_type": "stream",
     "text": [
      "31/31 [==============================] - 0s 941us/step\n"
     ]
    },
    {
     "data": {
      "image/png": "[encoded data removed]",
      "text/plain": [
       "<Figure size 700x600 with 2 Axes>"
      ]
     },
     "metadata": {},
     "output_type": "display_data"
    },
    {
     "name": "stdout",
     "output_type": "stream",
     "text": [
      "Classification Report\n",
      "              precision    recall  f1-score   support\n",
      "\n",
      "           1       0.95      1.00      0.97        72\n",
      "           2       1.00      0.97      0.98        64\n",
      "           3       0.84      1.00      0.92        65\n",
      "           4       1.00      0.99      0.99        71\n",
      "           5       1.00      1.00      1.00        71\n",
      "           6       0.99      0.97      0.98        75\n",
      "           7       0.96      1.00      0.98        69\n",
      "           8       1.00      0.98      0.99        60\n",
      "           9       0.94      1.00      0.97        61\n",
      "          10       1.00      0.99      0.99        76\n",
      "          11       1.00      1.00      1.00        58\n",
      "          12       1.00      1.00      1.00        61\n",
      "          13       1.00      1.00      1.00        58\n",
      "          15       0.94      0.82      0.88       126\n",
      "\n",
      "    accuracy                           0.97       987\n",
      "   macro avg       0.97      0.98      0.98       987\n",
      "weighted avg       0.97      0.97      0.97       987\n",
      "\n"
     ]
    }
   ],
   "source": [
    "import pandas as pd\n",
    "import seaborn as sns\n",
    "import matplotlib.pyplot as plt\n",
    "from sklearn.metrics import confusion_matrix, classification_report\n",
    "\n",
    "def print_confusion_matrix(y_true, y_pred, report=True):\n",
    "    labels = sorted(list(set(y_true)))\n",
    "    cmx_data = confusion_matrix(y_true, y_pred, labels=labels)\n",
    "    \n",
    "    df_cmx = pd.DataFrame(cmx_data, index=labels, columns=labels)\n",
    " \n",
    "    fig, ax = plt.subplots(figsize=(7, 6))\n",
    "    sns.heatmap(df_cmx, annot=True, fmt='g' ,square=False)\n",
    "    ax.set_ylim(len(set(y_true)), 0)\n",
    "    plt.show()\n",
    "    \n",
    "    if report:\n",
    "        print('Classification Report')\n",
    "        print(classification_report(y_test, y_pred))\n",
    "\n",
    "Y_pred = model.predict(X_test)\n",
    "y_pred = np.argmax(Y_pred, axis=1)\n",
    "\n",
    "print_confusion_matrix(y_test, y_pred)"
   ]
  },
  {
   "cell_type": "markdown",
   "metadata": {},
   "source": [
    "# Convert to model for Tensorflow-Lite"
   ]
  },
  {
   "cell_type": "code",
   "execution_count": 20,
   "metadata": {},
   "outputs": [],
   "source": [
    "# Save as a model dedicated to inference\n",
    "model.save(model_save_path)"
   ]
  },
  {
   "cell_type": "code",
   "execution_count": 21,
   "metadata": {},
   "outputs": [
    {
     "name": "stdout",
     "output_type": "stream",
     "text": [
      "INFO:tensorflow:Assets written to: C:\\Users\\MONSTER\\AppData\\Local\\Temp\\tmpha_y3za5\\assets\n"
     ]
    },
    {
     "data": {
      "text/plain": [
       "6688"
      ]
     },
     "execution_count": 21,
     "metadata": {},
     "output_type": "execute_result"
    }
   ],
   "source": [
    "# Transform model (quantization)\n",
    "\n",
    "converter = tf.lite.TFLiteConverter.from_keras_model(model)\n",
    "converter.optimizations = [tf.lite.Optimize.DEFAULT]\n",
    "tflite_quantized_model = converter.convert()\n",
    "\n",
    "open(tflite_save_path, 'wb').write(tflite_quantized_model)"
   ]
  },
  {
   "cell_type": "markdown",
   "metadata": {},
   "source": [
    "# Real Time Test"
   ]
  },
  {
   "cell_type": "code",
   "execution_count": 3,
   "metadata": {},
   "outputs": [],
   "source": [
    "import csv\n",
    "import copy\n",
    "import argparse\n",
    "\n",
    "import cv2\n",
    "import mediapipe as mp\n",
    "import tensorflow as tf\n",
    "import numpy as np\n",
    "from utils.helper_func import HelperFunc"
   ]
  },
  {
   "cell_type": "code",
   "execution_count": 5,
   "metadata": {},
   "outputs": [],
   "source": [
    "model = tf.keras.models.load_model('model/body_detection/body_detection_model.keras')"
   ]
  },
  {
   "cell_type": "code",
   "execution_count": 6,
   "metadata": {},
   "outputs": [],
   "source": [
    "min_detection_confidence = 0.7\n",
    "min_tracking_confidence = 0.7"
   ]
  },
  {
   "cell_type": "code",
   "execution_count": 7,
   "metadata": {},
   "outputs": [],
   "source": [
    "with open('model/body_detection/body_gesture_labels.csv',\n",
    "              encoding='utf-8-sig') as f:\n",
    "        body_gesture_labels = csv.reader(f)\n",
    "        body_gesture_labels = [\n",
    "            row[0] for row in body_gesture_labels\n",
    "        ]"
   ]
  },
  {
   "cell_type": "code",
   "execution_count": 8,
   "metadata": {},
   "outputs": [
    {
     "data": {
      "text/plain": [
       "['UP',\n",
       " 'DOWN',\n",
       " 'RIGHT',\n",
       " 'LEFT',\n",
       " 'FURTHER',\n",
       " 'CLOSER',\n",
       " 'LANDING',\n",
       " 'TAKE_OFF',\n",
       " 'PHOTO',\n",
       " 'VIDEO',\n",
       " 'VIDEO_STOP',\n",
       " 'EMERGENCY',\n",
       " 'FOLLOW',\n",
       " 'PALM',\n",
       " 'NO_CLASS']"
      ]
     },
     "execution_count": 8,
     "metadata": {},
     "output_type": "execute_result"
    }
   ],
   "source": [
    "body_gesture_labels"
   ]
  },
  {
   "cell_type": "code",
   "execution_count": null,
   "metadata": {},
   "outputs": [],
   "source": [
    "functions = HelperFunc()\n",
    "\n",
    "device = 0\n",
    "cap = cv2.VideoCapture(device)\n",
    "\n",
    "use_brect = True\n",
    "use_pose = True\n",
    "\n",
    "mp_drawing = mp.solutions.drawing_utils\n",
    "mp_pose = mp.solutions.pose\n",
    "\n",
    "with mp_pose.Pose(\n",
    "    min_detection_confidence=min_detection_confidence,\n",
    "    min_tracking_confidence=min_tracking_confidence) as pose:\n",
    "    \n",
    "    while cap.isOpened():\n",
    "\n",
    "        ret,frame = cap.read()\n",
    "\n",
    "        if not ret:\n",
    "            print('Ignoring empty camera frame.')\n",
    "            break\n",
    "\n",
    "        \n",
    "        rgb_frame = cv2.cvtColor(frame, cv2.COLOR_BGR2RGB)\n",
    "\n",
    "        results = pose.process(rgb_frame)\n",
    "\n",
    "        if results.pose_landmarks:\n",
    "            \n",
    "            # Landmark list calculation\n",
    "            landmark_list = functions.calc_landmark_list(rgb_frame, results.pose_landmarks,use_pose)\n",
    "            # Preprocessing landmark list\n",
    "            pre_processed_landmark_list = functions.pre_process_landmark(landmark_list)\n",
    "\n",
    "            # Inference test\n",
    "            predict_result = model.predict(np.array([pre_processed_landmark_list]),verbose=0)\n",
    "            body_sign_id = np.argmax(np.squeeze(predict_result))\n",
    "            accuracy = np.max(predict_result)\n",
    "            accuracy = round(accuracy, 2)\n",
    "\n",
    "            if accuracy > 0.70:\n",
    "                # Bounding box calculation\n",
    "                brect = functions.calc_bounding_rect(rgb_frame, results.pose_landmarks)\n",
    "                # Drawing the bounding box on the frame\n",
    "                frame = functions.rect_corners(frame, brect)\n",
    "\n",
    "                # Draw the pose annotation on the image.\n",
    "                frame.flags.writeable = True\n",
    "\n",
    "                mp_drawing.draw_landmarks(\n",
    "                    frame,\n",
    "                    results.pose_landmarks,\n",
    "                    mp_pose.POSE_CONNECTIONS,\n",
    "                    connection_drawing_spec = mp_drawing.DrawingSpec(color=(121,44,250), thickness=2),\n",
    "                    landmark_drawing_spec=mp_drawing.DrawingSpec(color=(121,22,76), thickness=2,circle_radius=2))\n",
    "                                \n",
    "                info_text = body_gesture_labels[body_sign_id-1] +' '+str(accuracy)\n",
    "                frame = functions.text_with_background(\n",
    "                            frame,\n",
    "                            info_text,\n",
    "                            (brect[0],brect[1])\n",
    "                        )                \n",
    "\n",
    "        # Display the frame\n",
    "        cv2.imshow('Hand Detection', frame)\n",
    "\n",
    "        # Break the loop if 'q' key is pressed\n",
    "        if cv2.waitKey(1) & 0xFF == ord('q'):\n",
    "            break\n",
    "cap.release()\n",
    "cv2.destroyAllWindows()\n"
   ]
  },
  {
   "cell_type": "code",
   "execution_count": null,
   "metadata": {},
   "outputs": [],
   "source": []
  }
 ],
 "metadata": {
  "kernelspec": {
   "display_name": "Python 3",
   "language": "python",
   "name": "python3"
  },
  "language_info": {
   "codemirror_mode": {
    "name": "ipython",
    "version": 3
   },
   "file_extension": ".py",
   "mimetype": "text/x-python",
   "name": "python",
   "nbconvert_exporter": "python",
   "pygments_lexer": "ipython3",
   "version": "3.10.6"
  }
 },
 "nbformat": 4,
 "nbformat_minor": 2
}
